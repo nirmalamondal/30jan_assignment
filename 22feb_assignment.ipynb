{
 "cells": [
  {
   "cell_type": "code",
   "execution_count": 3,
   "id": "6876ee9c-b0cc-4c44-b22c-fa6caa5f1249",
   "metadata": {},
   "outputs": [
    {
     "name": "stdout",
     "output_type": "stream",
     "text": [
      "0     4\n",
      "1     8\n",
      "2    15\n",
      "3    16\n",
      "4    23\n",
      "5    42\n",
      "dtype: int64\n"
     ]
    },
    {
     "data": {
      "text/plain": [
       "pandas.core.series.Series"
      ]
     },
     "execution_count": 3,
     "metadata": {},
     "output_type": "execute_result"
    }
   ],
   "source": [
    "#Q1. Create a Pandas Series that contains the following data: 4, 8, 15, 16, 23, and 42. Then, print the series.\n",
    "import pandas as pd\n",
    "l = [4,8,15,16,23,42]\n",
    "ser = pd.Series(l)\n",
    "print(ser)\n",
    "type(ser)"
   ]
  },
  {
   "cell_type": "code",
   "execution_count": 4,
   "id": "e5844f22-03b3-4679-9e0f-2e884085a6b1",
   "metadata": {},
   "outputs": [
    {
     "name": "stdout",
     "output_type": "stream",
     "text": [
      "0    Nirmala\n",
      "1      Priya\n",
      "2     Sunita\n",
      "3       Riya\n",
      "4      Disha\n",
      "5    Arindam\n",
      "6     Bharat\n",
      "7     Kuntal\n",
      "8       Ayan\n",
      "9       Jitu\n",
      "dtype: object\n"
     ]
    },
    {
     "data": {
      "text/plain": [
       "pandas.core.series.Series"
      ]
     },
     "execution_count": 4,
     "metadata": {},
     "output_type": "execute_result"
    }
   ],
   "source": [
    "#Q2. Create a variable of list type containing 10 elements in it, and apply pandas.Series function on the variable print it\n",
    "\n",
    "import pandas as pd\n",
    "name = ['Nirmala','Priya','Sunita','Riya','Disha','Arindam','Bharat','Kuntal','Ayan','Jitu']\n",
    "ser1 = pd.Series(name)\n",
    "print(ser1)\n",
    "type(ser)"
   ]
  },
  {
   "cell_type": "code",
   "execution_count": 5,
   "id": "c63bdeac-d2e9-49c6-bcde-526212691e77",
   "metadata": {},
   "outputs": [
    {
     "name": "stdout",
     "output_type": "stream",
     "text": [
      "     Name  Age  Gender\n",
      "0   Alice   25  Female\n",
      "1     Bob   30    Male\n",
      "2  Claire   27  Female\n"
     ]
    }
   ],
   "source": [
    "#Q3. Create a Pandas DataFrame that contains the following data:\n",
    "\n",
    "data = {\n",
    "    'Name':['Alice','Bob','Claire'],\n",
    "    'Age':[25,30,27],\n",
    "    'Gender':['Female','Male','Female']\n",
    "}\n",
    "df = pd.DataFrame(data)\n",
    "print(df)"
   ]
  },
  {
   "cell_type": "code",
   "execution_count": 8,
   "id": "8025e96c-7371-4f0b-8202-ffa79f4d8f18",
   "metadata": {},
   "outputs": [
    {
     "name": "stdout",
     "output_type": "stream",
     "text": [
      "It is a pandas data series\n",
      "0    Nirmala\n",
      "1      Priya\n",
      "2     Sunita\n",
      "3       Riya\n",
      "4      Disha\n",
      "5    Arindam\n",
      "6     Bharat\n",
      "7     Kuntal\n",
      "8       Ayan\n",
      "9       Jitu\n",
      "dtype: object\n",
      "__________________________________________________________________________________\n",
      "It is a pandas data Frame\n",
      "     Name  Age  Gender\n",
      "0   Alice   25  Female\n",
      "1     Bob   30    Male\n",
      "2  Claire   27  Female\n"
     ]
    }
   ],
   "source": [
    "#Q4.What is ‘DataFrame’ in pandas and how is it different from pandas.series? Explain with an example.\n",
    "\n",
    "\n",
    "'''A Dataframe is a collection of series that can be used to analyze the data.\n",
    "pandas.Series can only contain a single list with an index, whereas Dataframe can be made of more than one series.\n",
    "series gives data in a 1D format whereas dataframe present data in 2D format.'''\n",
    "\n",
    "print(\"It is a pandas data series\")\n",
    "name = ['Nirmala','Priya','Sunita','Riya','Disha','Arindam','Bharat','Kuntal','Ayan','Jitu']\n",
    "ser1 = pd.Series(name)\n",
    "print(ser1)\n",
    "type(ser)\n",
    "\n",
    "\n",
    "print('__________________________________________________________________________________')\n",
    "\n",
    "\n",
    "print(\"It is a pandas data Frame\")\n",
    "data = {\n",
    "    'Name':['Alice','Bob','Claire'],\n",
    "    'Age':[25,30,27],\n",
    "    'Gender':['Female','Male','Female']\n",
    "}\n",
    "df = pd.DataFrame(data)\n",
    "print(df)"
   ]
  },
  {
   "cell_type": "code",
   "execution_count": 12,
   "id": "cb7685cb-cd33-455e-a3a5-0580dd006f61",
   "metadata": {},
   "outputs": [
    {
     "name": "stdout",
     "output_type": "stream",
     "text": [
      "  taxonomy_id                     name parent_id     parent_name\n",
      "0         101                Emergency       NaN             NaN\n",
      "1      101-01        Disaster Response       101       Emergency\n",
      "2      101-02           Emergency Cash       101       Emergency\n",
      "3   101-02-01        Help Pay for Food    101-02  Emergency Cash\n",
      "4   101-02-02  Help Pay for Healthcare    101-02  Emergency Cash\n",
      "__________________________________________________________________________________________________________________________\n",
      "  taxonomy_id                     name parent_id     parent_name\n",
      "1      101-01        Disaster Response       101       Emergency\n",
      "2      101-02           Emergency Cash       101       Emergency\n",
      "3   101-02-01        Help Pay for Food    101-02  Emergency Cash\n",
      "4   101-02-02  Help Pay for Healthcare    101-02  Emergency Cash\n",
      "5   101-02-03     Help Pay for Housing    101-02  Emergency Cash\n",
      "___________________________________________________________________________________________________________________________\n",
      "  taxonomy_id                     name parent_id     parent_name\n",
      "0         101                Emergency       NaN             NaN\n",
      "1      101-01        Disaster Response       101       Emergency\n",
      "2      101-02           Emergency Cash       101       Emergency\n",
      "3   101-02-01        Help Pay for Food    101-02  Emergency Cash\n",
      "4   101-02-02  Help Pay for Healthcare    101-02  Emergency Cash\n",
      "__________________________________________________________________________________________________________________________\n",
      "  taxonomy_id                     name parent_id     parent_name\n",
      "0         101                Emergency   Nirmala         Nirmala\n",
      "1      101-01        Disaster Response       101       Emergency\n",
      "2      101-02           Emergency Cash       101       Emergency\n",
      "3   101-02-01        Help Pay for Food    101-02  Emergency Cash\n",
      "4   101-02-02  Help Pay for Healthcare    101-02  Emergency Cash\n"
     ]
    },
    {
     "data": {
      "text/plain": [
       "' Here we replace all the NaN values with \"Nirmala\" '"
      ]
     },
     "execution_count": 12,
     "metadata": {},
     "output_type": "execute_result"
    }
   ],
   "source": [
    "'''Q5.What are some common functions you can use to manipulate data in a Pandas DataFrame? Can you give an example of when you might use one of these \n",
    "functions? '''\n",
    "\n",
    "\n",
    "\n",
    "''' Dropna , Fillna are some commaon function that can be some common function for manipulating pandas dataframe.'''\n",
    "\n",
    "df2 = pd.read_csv(\"taxonomy.csv\")\n",
    "print(df2.head())\n",
    "df2 = df2.dropna()\n",
    "print('__________________________________________________________________________________________________________________________')\n",
    "print(df2.head())\n",
    "\n",
    "''' Here we use dropna to remove all the rows which have NaN value in its any column,we can also fill those NaN values with whatever we want. Follow\n",
    "the followings '''\n",
    "\n",
    "print(\"___________________________________________________________________________________________________________________________\")\n",
    "df3 = pd.read_csv(\"taxonomy.csv\")\n",
    "print(df3.head())\n",
    "df2 = df3.fillna(\"Nirmala\")\n",
    "print('__________________________________________________________________________________________________________________________')\n",
    "print(df2.head())\n",
    "\n",
    "\n",
    "''' Here we replace all the NaN values with \"Nirmala\" '''"
   ]
  },
  {
   "cell_type": "code",
   "execution_count": null,
   "id": "ae5e3e0a-dd63-4c79-812a-afd261bff688",
   "metadata": {},
   "outputs": [],
   "source": [
    "#Q6. Which of the following is mutable in nature Series, DataFrame, Panel?\n",
    "\n",
    "''' In Pandas except Series all are Size- mutable , Series is not size-mutable. But all these three are value mutable including series also.'''\n"
   ]
  },
  {
   "cell_type": "code",
   "execution_count": 15,
   "id": "d14d5ae9-586a-4f8c-91e0-634305afceef",
   "metadata": {},
   "outputs": [
    {
     "name": "stdout",
     "output_type": "stream",
     "text": [
      "     Name  Age  Gender\n",
      "0   Alice   25  Female\n",
      "1     Bob   30    Male\n",
      "2  Claire   27  Female\n"
     ]
    }
   ],
   "source": [
    "#Q7. Create a DataFrame using multiple Series. Explain with an example.\n",
    "\n",
    "Name = ['Alice','Bob','Claire']\n",
    "Age = [25,30,27]\n",
    "Gender = ['Female','Male','Female']\n",
    "ser2 = pd.Series(Name)\n",
    "ser3 = pd.Series(Age)\n",
    "ser4 = pd.Series(Gender)\n",
    "data_frame = pd.DataFrame({'Name':Name,'Age':Age,'Gender':Gender})\n",
    "print(data_frame)"
   ]
  },
  {
   "cell_type": "code",
   "execution_count": null,
   "id": "de7ed1ff-6e9b-4eab-a306-4dab0b020502",
   "metadata": {},
   "outputs": [],
   "source": []
  }
 ],
 "metadata": {
  "kernelspec": {
   "display_name": "Python 3 (ipykernel)",
   "language": "python",
   "name": "python3"
  },
  "language_info": {
   "codemirror_mode": {
    "name": "ipython",
    "version": 3
   },
   "file_extension": ".py",
   "mimetype": "text/x-python",
   "name": "python",
   "nbconvert_exporter": "python",
   "pygments_lexer": "ipython3",
   "version": "3.10.8"
  }
 },
 "nbformat": 4,
 "nbformat_minor": 5
}
