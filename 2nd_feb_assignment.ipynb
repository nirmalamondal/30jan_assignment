{
 "cells": [
  {
   "cell_type": "code",
   "execution_count": 1,
   "id": "9af59736-c776-4693-b904-cdf02172ea93",
   "metadata": {},
   "outputs": [
    {
     "name": "stdout",
     "output_type": "stream",
     "text": [
      "11\n",
      "22\n",
      "33\n",
      "44\n",
      "55\n",
      "_______________\n",
      "1\n",
      "2\n",
      "3\n",
      "4\n"
     ]
    }
   ],
   "source": [
    "# Q1. Explain with an example each when to use a for loop & a while loop.\n",
    "''' When the number of iterations is known at that time we use for loop else when the number of iterations are not known that time we use \n",
    "while loop'''\n",
    "l = [11, 22, 33, 44, 55]\n",
    "for i in l:\n",
    "    print(i)\n",
    "print(\"_______________\")    \n",
    "j = 1\n",
    "while j < 5:\n",
    "    print(j)\n",
    "    j += 1     \n"
   ]
  },
  {
   "cell_type": "code",
   "execution_count": 2,
   "id": "d96b5af9-7b6c-4ad8-b3e6-407ea1dece1b",
   "metadata": {},
   "outputs": [
    {
     "name": "stdout",
     "output_type": "stream",
     "text": [
      "SUM =  55\n",
      "PRODUCT =  3628800\n",
      "SUM =  55\n",
      "PRODUCT =  3628800\n"
     ]
    }
   ],
   "source": [
    "#Q2. Write a python program to print the sum and product of the first 10 natural numbers using for and while loop.\n",
    "i = 1\n",
    "sum1,prod = 0,1 \n",
    "while i<=10:\n",
    "    sum1 += i\n",
    "    prod *= i\n",
    "    i += 1\n",
    "print(\"SUM = \",sum1)\n",
    "print(\"PRODUCT = \",prod)\n",
    "\n",
    "\n",
    "sum2,prod2 = 0,1 \n",
    "for j in range(1,11):\n",
    "    sum2 += i\n",
    "    prod2 *= i\n",
    "print(\"SUM = \",sum1)\n",
    "print(\"PRODUCT = \",prod)\n",
    "        "
   ]
  },
  {
   "cell_type": "code",
   "execution_count": 3,
   "id": "a7a92a50-6eeb-4039-82ca-2b705d3581f6",
   "metadata": {},
   "outputs": [
    {
     "name": "stdin",
     "output_type": "stream",
     "text": [
      "Enter the units of electricity consumed in a month: 310\n"
     ]
    },
    {
     "name": "stdout",
     "output_type": "stream",
     "text": [
      "2250.0\n"
     ]
    }
   ],
   "source": [
    "'''Q3. Create a python program to compute the electricity bill for a household.\n",
    "The per-unit charges in rupees are as follows: For the first 100 units, the user will be charged Rs. 4.5 per\n",
    "unit, for the next 100 units, the user will be charged Rs. 6 per unit, and for the next 100 units, the user will\n",
    "be charged Rs. 10 per unit, After 300 units and above the user will be charged Rs. 20 per unit.\n",
    "You are required to take the units of electricity consumed in a month from the user as input.\n",
    "Your program must pass this test case: when the unit of electricity consumed by the user in a month is\n",
    "310, the total electricity bill should be 2250.'''\n",
    "\n",
    "unit = int(input(\"Enter the units of electricity consumed in a month:\"))\n",
    "total_bill = 0  \n",
    "if unit > 300 :\n",
    "    total_bill = 4.5*100 + 6*100 + 10*100 + 20*(unit - 300)\n",
    "elif unit <= 300 and unit >200:\n",
    "    total_bill = 4.5*100 + 6*100 + 10*(unit-200) \n",
    "elif unit <= 200 and unit >100:\n",
    "    total_bill = 4.5*100 + 6*(unit-100)\n",
    "else:\n",
    "     total_bill = 4.5*unit \n",
    "\n",
    "print(total_bill)        "
   ]
  },
  {
   "cell_type": "code",
   "execution_count": 7,
   "id": "851e616b-6cd2-46c3-a3f9-106c033ad183",
   "metadata": {},
   "outputs": [
    {
     "name": "stdout",
     "output_type": "stream",
     "text": [
      "Using for loop\n",
      "[8, 64, 125, 216, 512, 1000, 1728, 2744, 3375, 4096, 5832, 8000, 10648, 13824, 15625, 17576, 21952, 27000, 32768, 39304, 42875, 46656, 54872, 64000, 74088, 85184, 91125, 97336, 110592, 125000, 140608, 157464, 166375, 175616, 195112, 216000, 238328, 262144, 274625, 287496, 314432, 343000, 373248, 405224, 421875, 438976, 474552, 512000, 551368, 592704, 614125, 636056, 681472, 729000, 778688, 830584, 857375, 884736, 941192, 1000000]\n",
      "Using while loop\n",
      "[8, 64, 125, 216, 512, 1000, 1728, 2744, 3375, 4096, 5832, 8000, 10648, 13824, 15625, 17576, 21952, 27000, 32768, 39304, 42875, 46656, 54872, 64000, 74088, 85184, 91125, 97336, 110592, 125000, 140608, 157464, 166375, 175616, 195112, 216000, 238328, 262144, 274625, 287496, 314432, 343000, 373248, 405224, 421875, 438976, 474552, 512000, 551368, 592704, 614125, 636056, 681472, 729000, 778688, 830584, 857375, 884736, 941192, 1000000]\n"
     ]
    }
   ],
   "source": [
    "''' Q4. Create a list of numbers from 1 to 100. Use for loop and while loop to calculate the cube of each\n",
    "number and if the cube of that number is divisible by 4 or 5 then append that number in a list and print\n",
    "that list. '''\n",
    "#using for loop \n",
    "print(\"Using for loop\")\n",
    "l = []\n",
    "for i in range(1,101):\n",
    "    l.append(i)\n",
    "list_of_cude = []    \n",
    "list_to_be_print = []\n",
    "for i in l:\n",
    "    list_of_cude.append(i*i*i)\n",
    "for i in list_of_cude:\n",
    "    if i % 4 == 0 or i % 5 == 0 :\n",
    "        list_to_be_print.append(i)\n",
    "        \n",
    "print(list_to_be_print)   \n",
    "\n",
    "#using while loop \n",
    "print(\"Using while loop\")\n",
    "l1 = []\n",
    "i1,i2,i3 = 1,1,1\n",
    "while i1 <= 100:\n",
    "    l1.append(i1)\n",
    "    i1 += 1\n",
    "list_of_cude1 = []    \n",
    "list_to_be_print1 = []\n",
    "while i2 <= 100 :\n",
    "    list_of_cude1.append(l1[i2-1] * l1[i2-1] * l1[i2-1])\n",
    "    i2 += 1\n",
    "                          \n",
    "while i3 <= 100:\n",
    "    if list_of_cude1[i3-1] % 4 == 0 or list_of_cude1[i3-1] % 5 == 0 :\n",
    "        list_to_be_print1.append(list_of_cude1[i3-1])\n",
    "    i3 += 1\n",
    "        \n",
    "print(list_to_be_print1)  \n",
    "\n",
    "    "
   ]
  },
  {
   "cell_type": "code",
   "execution_count": 9,
   "id": "2979fd69-a957-4675-aa60-6e3e5101678e",
   "metadata": {},
   "outputs": [
    {
     "name": "stdout",
     "output_type": "stream",
     "text": [
      "Using loop\n",
      "12\n"
     ]
    }
   ],
   "source": [
    "''' Q5. Write a program to filter count vowels in the below-given string.\n",
    "string = \"I want to become a data scientist\"  '''\n",
    "print(\"Using loop\")\n",
    "string = \"I want to become a data scientist\"\n",
    "string1 = string.lower()\n",
    "counter = 0\n",
    "for i in range(0,len(string1)):\n",
    "    if string1[i] == 'a' or string1[i] == 'e' or string1[i] == 'i' or string1[i] == 'o' or string1[i] == 'u': \n",
    "        counter += 1\n",
    "print(counter)     \n",
    "\n"
   ]
  }
 ],
 "metadata": {
  "kernelspec": {
   "display_name": "Python 3 (ipykernel)",
   "language": "python",
   "name": "python3"
  },
  "language_info": {
   "codemirror_mode": {
    "name": "ipython",
    "version": 3
   },
   "file_extension": ".py",
   "mimetype": "text/x-python",
   "name": "python",
   "nbconvert_exporter": "python",
   "pygments_lexer": "ipython3",
   "version": "3.10.8"
  }
 },
 "nbformat": 4,
 "nbformat_minor": 5
}
