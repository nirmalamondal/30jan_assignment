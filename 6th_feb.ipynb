{
 "cells": [
  {
   "cell_type": "code",
   "execution_count": null,
   "id": "b83d4321-04b9-4122-84d0-02c1b15af960",
   "metadata": {},
   "outputs": [],
   "source": [
    "'''  Q1. Create a function which will take a list as an argument and return the product of all the numbers\n",
    "after creating a flat list.\n",
    "Use the below-given list as an argument for your function.\n",
    "list1 = [1,2,3,4, [44,55,66, True], False, (34,56,78,89,34), {1,2,3,3,2,1}, {1:34, \"key2\": [55, 67, 78, 89], 4: (45,\n",
    "22, 61, 34)}, [56, 'data science'], 'Machine Learning']\n",
    "Note: you must extract numeric keys and values of the dictionary also.\n",
    "'''"
   ]
  },
  {
   "cell_type": "code",
   "execution_count": 26,
   "id": "32337b23-747a-45f8-b05e-52d3fa864ca0",
   "metadata": {},
   "outputs": [
    {
     "name": "stdout",
     "output_type": "stream",
     "text": [
      "[1, 2, 3, 4, 44, 55, 66, 34, 56, 78, 89, 34, 1, 2, 3, 1, 4, 34, 55, 67, 78, 89, 45, 22, 61, 34, 56]\n",
      "4134711838987085478833841242112000\n"
     ]
    }
   ],
   "source": [
    "def final_product(list1):\n",
    "\n",
    "    int_list = []\n",
    "    for i in list1:\n",
    "        if type(i) == int:\n",
    "            int_list.append(i)\n",
    "        if type(i) == list or type(i) == tuple or type(i) == set:\n",
    "            l1 = list(i)\n",
    "            for j in l1:\n",
    "                if type(j) == int:\n",
    "                    int_list.append(j)\n",
    "        if type(i) == dict:\n",
    "            ky = list(i.keys())\n",
    "            vl = list(i.values())\n",
    "            for k in ky:\n",
    "                if type(k) == int:\n",
    "                    int_list.append(k)\n",
    "                if type(k) == list or type(k) == tuple or type(k) == set:\n",
    "                    for p in k:\n",
    "                        if type(p) == int:\n",
    "                            int_list.append(p)\n",
    "                        \n",
    "            for v in  vl:\n",
    "                if type(v) == int:\n",
    "                    int_list.append(v)\n",
    "                if type(v) == list or type(v) == tuple or type(v) == set:\n",
    "                    for q in v:\n",
    "                        if type(q) == int:\n",
    "                            int_list.append(q)\n",
    "                        \n",
    "        \n",
    "    \n",
    "    return int_list\n",
    "    \n",
    "    \n",
    "list1 = [1,2,3,4, [44,55,66, True], False, (34,56,78,89,34), {1,2,3,3,2,1}, {1:34, \"key2\": [55, 67, 78, 89], 4: (45,\n",
    "22, 61, 34)}, [56, 'data science'], 'Machine Learning']\n",
    "ans  = 1\n",
    "list2 = final_product(list1)\n",
    "print(list2)\n",
    "for i in list2:\n",
    "    ans *= i\n",
    "print(ans)"
   ]
  },
  {
   "cell_type": "code",
   "execution_count": null,
   "id": "484b05e3-88f3-4e15-b165-6b7370026f63",
   "metadata": {},
   "outputs": [],
   "source": [
    "'''  Q2. Write a python program for encrypting a message sent to you by your friend. The logic of encryption\n",
    "should be such that, for a the output should be z. For b, the output should be y. For c, the output should\n",
    "be x respectively. Also, the whitespace should be replaced with a dollar sign. Keep the punctuation\n",
    "marks unchanged.\n",
    "Input Sentence: I want to become a Data Scientist.\n",
    "Encrypt the above input sentence using the program you just created.\n",
    "Note: Convert the given input sentence into lowercase before encrypting. The final output should be lowercase.\n",
    "'''"
   ]
  },
  {
   "cell_type": "code",
   "execution_count": 44,
   "id": "581c09e2-9b15-4304-9682-637af1def29f",
   "metadata": {},
   "outputs": [
    {
     "name": "stdout",
     "output_type": "stream",
     "text": [
      "r$dzmg$gl$yvxlnv$z$wzgz$hxrvmgrhg.\n"
     ]
    }
   ],
   "source": [
    "def encryption(s3):\n",
    "    s1= ''\n",
    "    l = [chr(i) for i in range(122,96,-1)]\n",
    "    for i in range(len(s3)):\n",
    "        if s3[i] == ' ':\n",
    "            s1 += '$'\n",
    "        elif s3[i] >= 'a' and s3[i] <='z':\n",
    "            ch = ( ord(s3[i]) - ord('a'))\n",
    "            s1 += l[ch]\n",
    "        else:\n",
    "            s1 += s[i]\n",
    "    return s1\n",
    "\n",
    "s = 'I want to become a Data Scientist.'\n",
    "s2 = s.lower()\n",
    "print(encryption(s2))         "
   ]
  },
  {
   "cell_type": "code",
   "execution_count": null,
   "id": "edd8e63e-0db6-4c70-8b6c-32db55b18c9d",
   "metadata": {},
   "outputs": [],
   "source": []
  }
 ],
 "metadata": {
  "kernelspec": {
   "display_name": "Python 3 (ipykernel)",
   "language": "python",
   "name": "python3"
  },
  "language_info": {
   "codemirror_mode": {
    "name": "ipython",
    "version": 3
   },
   "file_extension": ".py",
   "mimetype": "text/x-python",
   "name": "python",
   "nbconvert_exporter": "python",
   "pygments_lexer": "ipython3",
   "version": "3.10.8"
  }
 },
 "nbformat": 4,
 "nbformat_minor": 5
}
