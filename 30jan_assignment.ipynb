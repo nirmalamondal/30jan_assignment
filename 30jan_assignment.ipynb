{
 "cells": [
  {
   "cell_type": "code",
   "execution_count": 2,
   "id": "7eddc08c-eafe-4e18-aa29-11fca2ce71c1",
   "metadata": {},
   "outputs": [
    {
     "name": "stdin",
     "output_type": "stream",
     "text": [
      "enter the percentage 98\n"
     ]
    },
    {
     "name": "stdout",
     "output_type": "stream",
     "text": [
      "Grade A\n"
     ]
    }
   ],
   "source": [
    "#1. Write a program to accept percentage from the user & display the grade according to the following criteria\n",
    "percentage = int(input(\"enter the percentage\"))\n",
    "if percentage > 90 :\n",
    "    print(\"Grade A\")\n",
    "elif percentage > 80 and percentage<=90:\n",
    "    print(\"Grade B\")   \n",
    "elif percentage >= 60 and percentage<=80:\n",
    "    print(\"Grade C\")  \n",
    "else:\n",
    "    print(\"Grade D\")  "
   ]
  },
  {
   "cell_type": "code",
   "execution_count": 3,
   "id": "c35e081b-6016-4229-b196-d1ed2987ca1a",
   "metadata": {},
   "outputs": [
    {
     "name": "stdin",
     "output_type": "stream",
     "text": [
      "Enter the cost_price 67890\n"
     ]
    },
    {
     "name": "stdout",
     "output_type": "stream",
     "text": [
      "Tax = 10%\n"
     ]
    }
   ],
   "source": [
    "# 2.Write a program to accept the cost price of a bike & display the road tax to be paid according to the following criteria\n",
    "cost_price = int(input(\"Enter the cost_price\"))\n",
    "if cost_price <= 50000:\n",
    "    print(\"Tax = 5%\")\n",
    "elif cost_price > 50000 and cost_price <= 100000:\n",
    "    print(\"Tax = 10%\")\n",
    "else:\n",
    "    print(\"Tax = 15%\")"
   ]
  },
  {
   "cell_type": "code",
   "execution_count": 4,
   "id": "f27386dc-0cf5-4338-a2b0-e75e6ead92fb",
   "metadata": {},
   "outputs": [
    {
     "name": "stdin",
     "output_type": "stream",
     "text": [
      "Enter city name delhi\n"
     ]
    },
    {
     "name": "stdout",
     "output_type": "stream",
     "text": [
      "Red Fort\n"
     ]
    }
   ],
   "source": [
    "# 3.Accept any city from the user and display monuments of that city\n",
    "City_name = input(\"Enter city name\")\n",
    "city_name = City_name.upper()\n",
    "if city_name == \"DELHI\":\n",
    "    print(\"Red Fort\")\n",
    "elif city_name == \"AGRA\":\n",
    "    print(\"Taj Mahal\") \n",
    "elif city_name == \"JAIPUR\":\n",
    "    print(\"Jal Mahal\")     "
   ]
  },
  {
   "cell_type": "code",
   "execution_count": 5,
   "id": "63deebcd-e2dc-4b5f-93ef-5a728ed1f5aa",
   "metadata": {},
   "outputs": [
    {
     "name": "stdin",
     "output_type": "stream",
     "text": [
      "Enter the number 450\n"
     ]
    },
    {
     "name": "stdout",
     "output_type": "stream",
     "text": [
      "4\n"
     ]
    }
   ],
   "source": [
    "# 4.check how many times a given number can be divided by 3 before it is less or equal to 10\n",
    "num = int(input(\"Enter the number\"))\n",
    "count = 0\n",
    "while(num>10):\n",
    "    count += 1\n",
    "    num /=3\n",
    "print(count)    \n"
   ]
  },
  {
   "cell_type": "code",
   "execution_count": 6,
   "id": "ce4d7196-4d23-4563-a576-ea947c96b3d4",
   "metadata": {},
   "outputs": [
    {
     "name": "stdout",
     "output_type": "stream",
     "text": [
      "0\n",
      "1\n",
      "2\n",
      "3\n",
      "4\n"
     ]
    }
   ],
   "source": [
    "#5.Why & when to use while loop in python give a detailed description with example\n",
    "'''  python loop is used to execute a block of code untill a given condition is satisfied. At the begining it checks the condition if it satisfied then\n",
    "it goes to the next block of else it terminates from the loop.\n",
    "Using break & continue we can also control the loop execution. 'break' is used to terminate the loop after a certain condition, after it execute the \n",
    "'break' statement if does not go further. And when it meets 'continue' it skip the further code & the control goes to the loop itself.  '''\n",
    "\n",
    "#example:\n",
    "i = 0\n",
    "while i <= 10:\n",
    "    if i < 5:\n",
    "        print(i)\n",
    "    elif i == 7:\n",
    "        break\n",
    "    i += 1    "
   ]
  },
  {
   "cell_type": "code",
   "execution_count": 10,
   "id": "4b65ea61-64a8-4422-aecb-74e7b990a645",
   "metadata": {},
   "outputs": [
    {
     "name": "stdin",
     "output_type": "stream",
     "text": [
      "Enter number of rows :  5\n"
     ]
    },
    {
     "name": "stdout",
     "output_type": "stream",
     "text": [
      "* \n",
      "* * \n",
      "* * * \n",
      "* * * * \n",
      "* * * * * \n"
     ]
    },
    {
     "name": "stdin",
     "output_type": "stream",
     "text": [
      "Enter number of rows :  5\n"
     ]
    },
    {
     "name": "stdout",
     "output_type": "stream",
     "text": [
      "* * * * * \n",
      "* * * * \n",
      "* * * \n",
      "* * \n",
      "* \n"
     ]
    },
    {
     "name": "stdin",
     "output_type": "stream",
     "text": [
      "Enter number of rows :  5\n"
     ]
    },
    {
     "name": "stdout",
     "output_type": "stream",
     "text": [
      "1 \n",
      "2 2 \n",
      "3 3 3 \n",
      "4 4 4 4 \n",
      "5 5 5 5 5 \n"
     ]
    }
   ],
   "source": [
    "#6.Use nested while loop to print 3 different pattern\n",
    "#examole 1\n",
    "n = int(input('Enter number of rows : '))\n",
    "i = 1\n",
    "while i <= n :\n",
    "    j = 1\n",
    "    while j <= i:\n",
    "        print(\"*\", end = \" \")\n",
    "        j += 1\n",
    "    print()\n",
    "    i += 1\n",
    "\n",
    "#example 2    \n",
    "n1 = int(input('Enter number of rows : '))\n",
    "i1 = 1\n",
    "while i1 <= n1 :\n",
    "    j1 = n1\n",
    "    while j1 >= i1:\n",
    "        print(\"*\", end = \" \")\n",
    "        j1 -= 1\n",
    "    print()\n",
    "    i1 += 1    \n",
    "    \n",
    "#example 3\n",
    "n3 = int(input('Enter number of rows : '))\n",
    "i3 = 1\n",
    "while i3 <= n :\n",
    "    j3 = 1\n",
    "    while j3 <= i3:\n",
    "        print(i3, end=' ')\n",
    "        j3 += 1\n",
    "    print('')\n",
    "    i3 += 1"
   ]
  },
  {
   "cell_type": "code",
   "execution_count": 10,
   "id": "150ec4a1-d3b0-410a-8c9b-c564267891d7",
   "metadata": {},
   "outputs": [
    {
     "name": "stdout",
     "output_type": "stream",
     "text": [
      "10\n",
      "9\n",
      "8\n",
      "7\n",
      "6\n",
      "5\n",
      "4\n",
      "3\n",
      "2\n",
      "1\n"
     ]
    }
   ],
   "source": [
    "#7.Reverse a while loop to display number from 10 to 1\n",
    "i=10\n",
    "while(i>0):\n",
    "    print(i)\n",
    "    i -= 1"
   ]
  },
  {
   "cell_type": "code",
   "execution_count": 11,
   "id": "5e596c14-3392-4475-aa54-ff891533ce05",
   "metadata": {},
   "outputs": [
    {
     "name": "stdout",
     "output_type": "stream",
     "text": [
      "10\n",
      "9\n",
      "8\n",
      "7\n",
      "6\n",
      "5\n",
      "4\n",
      "3\n",
      "2\n",
      "1\n"
     ]
    }
   ],
   "source": [
    "#8..Reverse a while loop to display number from 10 to 1\n",
    "i=10\n",
    "while(i>0):\n",
    "    print(i)\n",
    "    i -= 1"
   ]
  },
  {
   "cell_type": "code",
   "execution_count": null,
   "id": "9fac7ea6-e072-4b9c-9986-75d493c342a7",
   "metadata": {},
   "outputs": [],
   "source": []
  }
 ],
 "metadata": {
  "kernelspec": {
   "display_name": "Python 3 (ipykernel)",
   "language": "python",
   "name": "python3"
  },
  "language_info": {
   "codemirror_mode": {
    "name": "ipython",
    "version": 3
   },
   "file_extension": ".py",
   "mimetype": "text/x-python",
   "name": "python",
   "nbconvert_exporter": "python",
   "pygments_lexer": "ipython3",
   "version": "3.10.8"
  }
 },
 "nbformat": 4,
 "nbformat_minor": 5
}
