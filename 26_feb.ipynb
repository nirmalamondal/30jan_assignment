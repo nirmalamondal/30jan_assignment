{
 "cells": [
  {
   "cell_type": "code",
   "execution_count": 1,
   "id": "267cbc34-6add-4ee7-ac68-dc3c0e83b0dc",
   "metadata": {},
   "outputs": [],
   "source": [
    "import numpy as np\n",
    "list_ = [ '1' , '2' , '3' , '4' , '5' ]\n",
    "array_list = np.array(object = list_)"
   ]
  },
  {
   "cell_type": "code",
   "execution_count": 2,
   "id": "7db539cb-b337-4a46-89bb-012220bceabf",
   "metadata": {},
   "outputs": [
    {
     "name": "stdout",
     "output_type": "stream",
     "text": [
      "typr of list_ is :  <class 'list'>\n",
      "typr of array_list is :  <class 'numpy.ndarray'>\n"
     ]
    }
   ],
   "source": [
    "#Q1. Is there any difference in the data type of variables list_ and array_list? If there is then write a code to print the data types of both the variables.\n",
    "\n",
    "\"\"\"\n",
    "yes, there is a difference , list_ 's data type is 'list' and array_list's datatype is ndarray\"\"\"\n",
    "print(\"typr of list_ is : \",type(list_))\n",
    "print(\"typr of array_list is : \",type(array_list))\n",
    "\n"
   ]
  },
  {
   "cell_type": "code",
   "execution_count": 3,
   "id": "da212e50-5abf-45c0-83d0-97b18346f6e5",
   "metadata": {},
   "outputs": [
    {
     "name": "stdout",
     "output_type": "stream",
     "text": [
      "Types of each element of list_ variable \n",
      "<class 'str'>\n",
      "<class 'str'>\n",
      "<class 'str'>\n",
      "<class 'str'>\n",
      "<class 'str'>\n",
      "Types of each element of array_list variable \n",
      "<class 'numpy.str_'>\n",
      "<class 'numpy.str_'>\n",
      "<class 'numpy.str_'>\n",
      "<class 'numpy.str_'>\n",
      "<class 'numpy.str_'>\n"
     ]
    }
   ],
   "source": [
    "#Q2. Write a code to print the data type of each and every element of both the variables list_ and arra_list.\n",
    "\n",
    "\n",
    "print(\"Types of each element of list_ variable \")\n",
    "for i in list_:\n",
    "    print(type(i))\n",
    "    \n",
    "print(\"Types of each element of array_list variable \")\n",
    "for i in array_list:\n",
    "    print(type(i))    \n",
    "    \n",
    "    \n",
    "    "
   ]
  },
  {
   "cell_type": "code",
   "execution_count": 4,
   "id": "5e6815fa-e448-4ac4-9722-201e3d313441",
   "metadata": {},
   "outputs": [
    {
     "name": "stdout",
     "output_type": "stream",
     "text": [
      "Types of each element of list_ variable \n",
      "<class 'str'>\n",
      "<class 'str'>\n",
      "<class 'str'>\n",
      "<class 'str'>\n",
      "<class 'str'>\n",
      "Types of each element of array_list variable \n",
      "<class 'numpy.int64'>\n",
      "<class 'numpy.int64'>\n",
      "<class 'numpy.int64'>\n",
      "<class 'numpy.int64'>\n",
      "<class 'numpy.int64'>\n"
     ]
    }
   ],
   "source": [
    "''' Q3. Considering the following changes in the variable, array_list: \n",
    "array_list = np.array(object = list_, dtype = int)\n",
    "Will there be any difference in the data type of the elements present in both the variables, list_ and\n",
    "arra_list? If so then print the data types of each and every element present in both the variables, list_\n",
    "and arra_list. '''\n",
    "\n",
    "\n",
    "\"\"\" Yes, there is a change in datatypes in array_list variable, all the element's datatype change into integer type. But list_ variable have the same data\n",
    "type as previous\"\"\"\n",
    "\n",
    "array_list = np.array(object = list_, dtype = int)\n",
    "\n",
    "print(\"Types of each element of list_ variable \")\n",
    "for i in list_:\n",
    "    print(type(i))\n",
    "    \n",
    "print(\"Types of each element of array_list variable \")\n",
    "for i in array_list:\n",
    "    print(type(i))    \n",
    "    "
   ]
  },
  {
   "cell_type": "code",
   "execution_count": 5,
   "id": "2140bc97-ad80-4437-b115-47dbee3849df",
   "metadata": {},
   "outputs": [],
   "source": [
    "import numpy as np\n",
    "num_list = [ [ 1 , 2 , 3 ] , [ 4 , 5 , 6 ] ]\n",
    "num_array = np.array(object = num_list)"
   ]
  },
  {
   "cell_type": "code",
   "execution_count": 6,
   "id": "8ab301c1-e1bb-4ec3-ad03-c2e7cf3df622",
   "metadata": {},
   "outputs": [
    {
     "name": "stdout",
     "output_type": "stream",
     "text": [
      "(2, 3)\n",
      "6\n"
     ]
    }
   ],
   "source": [
    "\"\"\"Q4. Write a code to find the following characteristics of variable, num_array:\n",
    "(i) shape\n",
    "(ii) size\n",
    "\"\"\"\n",
    "''' shape return a tuple which consist the number_of_rows and number_of_columns, where as size return the total number of elements of array which is the \n",
    "product of number_of_rows and number_of_columns.'''\n",
    "print(np.shape(num_array))\n",
    "print(num_array.size)"
   ]
  },
  {
   "cell_type": "code",
   "execution_count": 8,
   "id": "255c2f8f-6ce5-4b87-9dd8-304e80907c33",
   "metadata": {},
   "outputs": [
    {
     "name": "stdout",
     "output_type": "stream",
     "text": [
      "[[0. 0. 0.]\n",
      " [0. 0. 0.]\n",
      " [0. 0. 0.]]\n"
     ]
    }
   ],
   "source": [
    "\"\"\"Q5. Write a code to create numpy array of 3*3 matrix containing zeros only, using a numpy array\n",
    "creation function.\n",
    "[Hint: The size of the array will be 9 and the shape will be (3,3).]\n",
    "\"\"\"\n",
    "\n",
    "num_arr = np.zeros((3,3))\n",
    "print(num_arr)"
   ]
  },
  {
   "cell_type": "code",
   "execution_count": 10,
   "id": "6e9adb6f-d94c-4d16-8127-ff0db0d476f3",
   "metadata": {},
   "outputs": [
    {
     "name": "stdout",
     "output_type": "stream",
     "text": [
      "[[1. 0. 0. 0. 0.]\n",
      " [0. 1. 0. 0. 0.]\n",
      " [0. 0. 1. 0. 0.]\n",
      " [0. 0. 0. 1. 0.]\n",
      " [0. 0. 0. 0. 1.]]\n"
     ]
    }
   ],
   "source": [
    "\"\"\"Q6. Create an identity matrix of shape (5,5) using numpy functions?\n",
    "[Hint: An identity matrix is a matrix containing 1 diagonally and other elements will be 0.]\n",
    "\"\"\"\n",
    "\n",
    "num_arr1 = np.eye(5)\n",
    "print(num_arr1)"
   ]
  },
  {
   "cell_type": "code",
   "execution_count": null,
   "id": "52333770-079a-47c9-b07a-1184dc916b3f",
   "metadata": {},
   "outputs": [],
   "source": []
  }
 ],
 "metadata": {
  "kernelspec": {
   "display_name": "Python 3 (ipykernel)",
   "language": "python",
   "name": "python3"
  },
  "language_info": {
   "codemirror_mode": {
    "name": "ipython",
    "version": 3
   },
   "file_extension": ".py",
   "mimetype": "text/x-python",
   "name": "python",
   "nbconvert_exporter": "python",
   "pygments_lexer": "ipython3",
   "version": "3.10.8"
  }
 },
 "nbformat": 4,
 "nbformat_minor": 5
}
