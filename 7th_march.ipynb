{
 "cells": [
  {
   "cell_type": "code",
   "execution_count": null,
   "id": "ab9a3a81-041e-409f-a910-06c6f0ae5dbe",
   "metadata": {},
   "outputs": [],
   "source": [
    "#Q1. What are the three measures of central tendency?\n",
    "\n",
    "'''\n",
    "1.Mean: mean is the most commonly used measure of central tendency. It is calculated by summing up all the values in a dataset and dividing the sum by the number of \n",
    "       observations. \n",
    "2.Median:The median is the middle value in a dataset when it is arranged in ascending or descending order.\n",
    "3.Mode:The mode is the value or values that appear most frequently in a dataset.\n",
    "\n",
    " '''"
   ]
  },
  {
   "cell_type": "code",
   "execution_count": null,
   "id": "185dd3cd-52b1-4c7a-87ad-127a02340d88",
   "metadata": {},
   "outputs": [],
   "source": [
    "#Q2. What is the difference between the mean, median, and mode? How are they used to measure the central tendency of a dataset?\n",
    "\n",
    "'''The mean is sensitive to extreme values or outliers because it takes into account every data point. It is commonly used in situations where the data is normally\n",
    "distributed and does not have significant outliers.\n",
    "\n",
    "The median is robust to outliers because it only considers the position of values and not their magnitude. It is useful when the data contains extreme values or is skewed.\n",
    "\n",
    "The mode is useful when dealing with categorical or discrete data, although it can also be used for continuous data. Unlike the mean and median, the mode does not provide\n",
    "information about the magnitude or the distribution of the data. It is used to identify the most common category or value in a dataset.\n",
    "'''"
   ]
  },
  {
   "cell_type": "code",
   "execution_count": 4,
   "id": "044432f4-1a39-4ff3-9a21-8cf46805c0a8",
   "metadata": {},
   "outputs": [
    {
     "name": "stdout",
     "output_type": "stream",
     "text": [
      "Mean:  177.01875\n",
      "Median:  177.0\n",
      "Mode:  ModeResult(mode=array([177.]), count=array([3]))\n"
     ]
    },
    {
     "name": "stderr",
     "output_type": "stream",
     "text": [
      "/tmp/ipykernel_1539/926988568.py:9: FutureWarning: Unlike other reduction functions (e.g. `skew`, `kurtosis`), the default behavior of `mode` typically preserves the axis it acts along. In SciPy 1.11.0, this behavior will change: the default value of `keepdims` will become False, the `axis` over which the statistic is taken will be eliminated, and the value None will no longer be accepted. Set `keepdims` to True or False to avoid this warning.\n",
      "  mode = stats.mode(data)\n"
     ]
    }
   ],
   "source": [
    "#Q3. Measure the three measures of central tendency for the given height data: \n",
    "data = [178,177,176,177,178.2,178,175,179,180,175,178.9,176.2,177,172.5,178,176.5]\n",
    "\n",
    "\n",
    "import numpy as np\n",
    "from scipy import stats\n",
    "mean = np.mean(data)\n",
    "median = np.median(data)\n",
    "mode = stats.mode(data)\n",
    "print('Mean: ',mean)\n",
    "print('Median: ',median)\n",
    "print('Mode: ',mode)\n"
   ]
  },
  {
   "cell_type": "code",
   "execution_count": 5,
   "id": "d6430651-6fc8-4e98-8e4c-093b492d0dd3",
   "metadata": {},
   "outputs": [
    {
     "name": "stdout",
     "output_type": "stream",
     "text": [
      "1.7885814036548633\n"
     ]
    }
   ],
   "source": [
    "#Q4. Find the standard deviation for the given data:\n",
    "data = [178,177,176,177,178.2,178,175,179,180,175,178.9,176.2,177,172.5,178,176.5]\n",
    "import numpy as np\n",
    "print(np.std(data))"
   ]
  },
  {
   "cell_type": "code",
   "execution_count": null,
   "id": "da1e063c-3949-4889-9f3b-f833dcf333fd",
   "metadata": {},
   "outputs": [],
   "source": [
    "#Q5. How are measures of dispersion such as range, variance, and standard deviation used to describe the spread of a dataset? Provide an example.\n",
    "\n",
    "\n",
    "''' Range: The range is the simplest measure of dispersion and is calculated as the difference between the maximum and minimum values in a dataset:\n",
    "Variance: The variance measures the average squared deviation of each data point from the mean. \n",
    "Standard deviation : The standard deviation is the square root of the variance. It provides a more interpretable measure of dispersion in the original units of the data.\n",
    "\n",
    "\n",
    "example:Suppose we have a dataset representing the daily temperatures (in degrees Celsius) recorded over a week: [20, 22, 19, 18, 23, 21, 25].\n",
    "We can use measures of dispersion to describe the spread of this dataset.\n",
    "\n",
    "Range: The maximum temperature is 25, and the minimum temperature is 18. Therefore, the range is 25 - 18 = 7.\n",
    "\n",
    "Variance: To calculate the variance, we first find the mean of the dataset. The mean is (20 + 22 + 19 + 18 + 23 + 21 + 25) / 7 = 21. Then, we calculate the squared deviation\n",
    "of each data point from the mean and average them. The squared deviations are (20 - 21)^2, (22 - 21)^2, (19 - 21)^2, (18 - 21)^2, (23 - 21)^2, (21 - 21)^2, (25 - 21)^2. \n",
    "The average of these squared deviations is (1 + 1 + 4 + 9 + 4 + 0 + 16) / 7 = 35 / 7 = 5. Therefore, the variance is 5.\n",
    "\n",
    "Standard Deviation: The standard deviation is the square root of the variance. So, the standard deviation is √5 ≈ 2.236.\n",
    "\n",
    "'''"
   ]
  },
  {
   "cell_type": "code",
   "execution_count": null,
   "id": "1657aa0e-2825-4bd8-8e84-e6b23090ea9f",
   "metadata": {},
   "outputs": [],
   "source": [
    "#Q6. What is a Venn diagram?\n",
    "\n",
    "'''A Venn diagram is a visual representation of the relationships between different sets of objects or groups. It consists of overlapping circles or other shapes, each \n",
    "representing a set or a category. The areas where the circles overlap indicate the elements that belong to multiple sets, while the non-overlapping areas represent elements \n",
    "that are unique to each set. '''"
   ]
  },
  {
   "cell_type": "code",
   "execution_count": null,
   "id": "00817c76-4234-461a-b57d-597c14b59c34",
   "metadata": {},
   "outputs": [],
   "source": [
    "#Q7.For the two given sets A = (2,3,4,5,6,7) & B = (0,2,6,8,10). Find:\n",
    "(i) A intersection B  = {2,6}\n",
    "(ii) A ⋃ B = {0,2,3,4,5,6,7,8,10}"
   ]
  },
  {
   "cell_type": "code",
   "execution_count": null,
   "id": "1cc519f3-c69c-47aa-aa95-db731406eb6c",
   "metadata": {},
   "outputs": [],
   "source": [
    "#Q8. What do you understand about skewness in data?\n",
    "'''Skewness in data refers to the asymmetry or lack of symmetry in the distribution of values. It measures the degree and direction of departure from a symmetric \n",
    "distribution. A symmetric distribution has a balanced shape, where the left and right sides are roughly mirror images of each other. Skewness quantifies the extent to which\n",
    "the data is skewed or \"lopsided\" towards one tail of the distribution.'''"
   ]
  },
  {
   "cell_type": "code",
   "execution_count": null,
   "id": "a67ba9f8-0622-4969-af04-e164e6108d1f",
   "metadata": {},
   "outputs": [],
   "source": [
    "#Q9.If a data is right skewed then what will be the position of median with respect to mean?\n",
    "'''If a data is right skewed then the mean is typically greater than the median.'''"
   ]
  },
  {
   "cell_type": "code",
   "execution_count": null,
   "id": "26c64d8c-3397-43a1-a2e2-f39a72561d10",
   "metadata": {},
   "outputs": [],
   "source": [
    "#Q10.Explain the difference between covariance and correlation. How are these measures used in statistical analysis?\n",
    "'''Covariance measures the direction and strength of the linear relationship between two variables. It determines how changes in one variable are associated with changes in \n",
    "another variable. Covariance can take on positive, negative, or zero values, indicating the nature and extent of the relationship.\n",
    "Correlation is a standardized measure of the linear relationship between two variables. It normalizes the covariance by dividing it by the product of the standard deviations\n",
    "of the two variables. This yields a value between -1 and 1, known as the correlation coefficient, which indicates the strength and direction of the relationship.\n",
    "\n",
    "The magnitude of the covariance is not standardized, making it difficult to compare the strength of relationships across different datasets. \n",
    "Correlation is beneficial in statistical analysis as it allows for the comparison of relationships across different datasets. It provides a standardized measure of \n",
    "association that is not influenced by the scale of the variables.'''"
   ]
  },
  {
   "cell_type": "code",
   "execution_count": null,
   "id": "8431d28a-d0ff-4b4b-aa6f-796fb5d4f9e1",
   "metadata": {},
   "outputs": [],
   "source": [
    "#Q11.What is the formula for calculating the sample mean? Provide an example calculation for a dataset.\n",
    "\n",
    "'''he formula for calculating the sample mean, denoted as X̄, is as follows:\n",
    "\n",
    "X̄ = (x₁ + x₂ + x₃ + ... + xn) / n\n",
    "Consider the following dataset of exam scores: 75, 82, 90, 68, 85.\n",
    "To find the sample mean, we sum up all the scores and divide by the number of observations:\n",
    "X̄ = (75 + 82 + 90 + 68 + 85) / 5\n",
    "X̄ = 400 / 5\n",
    "X̄ = 80\n",
    "Therefore, the sample mean of the dataset is 80.\n",
    "'''"
   ]
  },
  {
   "cell_type": "code",
   "execution_count": null,
   "id": "ea2d3c16-fab3-4653-9dc2-3508be58e90c",
   "metadata": {},
   "outputs": [],
   "source": [
    "#Q12.For a normal distribution data what is the relationship between its measure of central tendency?\n",
    "'''\n",
    "The equality of the mean, median, and mode is shown in normal distribution data .'''"
   ]
  },
  {
   "cell_type": "code",
   "execution_count": null,
   "id": "7a5d4d38-be76-499e-aaa0-dae6c4110c4d",
   "metadata": {},
   "outputs": [],
   "source": [
    "#Q13.How is covariance different from correlation?\n",
    "'''covariance measures the linear relationship between variables but is scale-dependent and lacks a clear interpretation of strength. Correlation, on the other hand, \n",
    "standardizes the covariance, making it scale-free and interpretable, facilitating comparisons between different datasets or variables.\n",
    "'''\n"
   ]
  },
  {
   "cell_type": "code",
   "execution_count": 6,
   "id": "78ad9621-dd1e-4d08-aac9-dc80017e05bf",
   "metadata": {},
   "outputs": [
    {
     "name": "stdout",
     "output_type": "stream",
     "text": [
      "mean_without_outliers 34.5\n",
      "mean_with_outliers 51.0\n",
      "difference in mean 16.5\n",
      "range_without_outliers 20\n",
      "range_with_outliers 125\n"
     ]
    }
   ],
   "source": [
    "#Q14.How do outliers affect measures of central tendency and dispersion? Provide an example.\n",
    "'''Outliers can have a substantial impact on measures of central tendency, such as the mean. Since the mean is calculated by summing up all the values and dividing by the \n",
    "number of observations, the presence of an outlier, especially if it is far from the other data points, can significantly influence the calculated mean. Outliers have a \n",
    "\"pulling\" effect on the mean, dragging it towards their extreme value. As a result, the mean may not be representative of the majority of the data.\n",
    "\n",
    "Outliers can also affect measures of dispersion, such as the range, variance, and standard deviation. These measures quantify the spread or variability of the data. Outliers\n",
    "can widen the range by introducing extreme values. Additionally, outliers can substantially impact the variance and standard deviation since these measures are influenced by\n",
    "the squared differences between each data point and the mean.\n",
    "\n",
    "\n",
    "\n",
    "\n",
    "Example:\n",
    "\n",
    "'''\n",
    "\n",
    "data1 = [25, 30, 35, 40, 45,32, 150]\n",
    "\n",
    "mean_without_outliers = (25+30+35+40+45+32)/6\n",
    "mean_with_outliers = (25+30+35+40+45+32+150)/7\n",
    "print('mean_without_outliers',mean_without_outliers)\n",
    "print('mean_with_outliers',mean_with_outliers)\n",
    "print(\"difference in mean\",mean_with_outliers - mean_without_outliers)\n",
    "\n",
    "range_without_outliers = 45-25 \n",
    "range_with_outliers = 150-25 \n",
    "print('range_without_outliers',range_without_outliers)\n",
    "print('range_with_outliers',range_with_outliers)\n",
    "#here  we can see the 150 is the outlier as it effects the mean and range both in a huge level"
   ]
  },
  {
   "cell_type": "code",
   "execution_count": null,
   "id": "d3017ac2-7d68-4294-8c54-f9b87973979a",
   "metadata": {},
   "outputs": [],
   "source": []
  }
 ],
 "metadata": {
  "kernelspec": {
   "display_name": "Python 3 (ipykernel)",
   "language": "python",
   "name": "python3"
  },
  "language_info": {
   "codemirror_mode": {
    "name": "ipython",
    "version": 3
   },
   "file_extension": ".py",
   "mimetype": "text/x-python",
   "name": "python",
   "nbconvert_exporter": "python",
   "pygments_lexer": "ipython3",
   "version": "3.10.8"
  }
 },
 "nbformat": 4,
 "nbformat_minor": 5
}
