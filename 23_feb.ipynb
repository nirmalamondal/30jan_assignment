{
 "cells": [
  {
   "cell_type": "code",
   "execution_count": 68,
   "id": "989afcc9-47b1-4ef2-9b99-48854dba939c",
   "metadata": {},
   "outputs": [],
   "source": [
    "import pandas as pd"
   ]
  },
  {
   "cell_type": "code",
   "execution_count": 69,
   "id": "1c051e3d-dfb6-4e71-ab7c-8bd3c05b2459",
   "metadata": {
    "tags": []
   },
   "outputs": [
    {
     "name": "stdout",
     "output_type": "stream",
     "text": [
      "Mean of row b: 6.5\n",
      "Max of row a: 9\n",
      "0     1\n",
      "1     3\n",
      "2     6\n",
      "3    10\n",
      "Name: a, dtype: int64\n",
      "0     1\n",
      "1     4\n",
      "2     9\n",
      "3    16\n",
      "Name: a, dtype: int64\n",
      "('a', 0    1\n",
      "1    2\n",
      "2    3\n",
      "3    4\n",
      "Name: a, dtype: int64)\n",
      "('b', 0    7\n",
      "1    8\n",
      "2    9\n",
      "3    2\n",
      "Name: b, dtype: int64)\n",
      "('c', 0     Nil\n",
      "1    Nilu\n",
      "2    Nila\n",
      "3     Nir\n",
      "Name: c, dtype: object)\n",
      "   a  b     c\n",
      "0  1  7   Nil\n",
      "1  2  8  Nilu\n",
      "2  3  9  Nila\n",
      "3  4  2   Nir\n"
     ]
    },
    {
     "name": "stderr",
     "output_type": "stream",
     "text": [
      "/tmp/ipykernel_76/2583447794.py:21: FutureWarning: iteritems is deprecated and will be removed in a future version. Use .items instead.\n",
      "  for i in df.iteritems():\n"
     ]
    }
   ],
   "source": [
    "#Q1. List any five functions of the pandas library with execution.\n",
    "'''1.apply() 2.mean() 3.max() 4.iterrows() 5. cumsum()'''\n",
    "\n",
    "\n",
    "data = {'a': [1,2,3,4],\n",
    "        'b': [7,8,9,2],\n",
    "        'c': ['Nil','Nilu','Nila','Nir']\n",
    "        \n",
    "}\n",
    "df = pd.DataFrame(data)\n",
    "print('Mean of row b: ' + str(df['b'].mean()) )\n",
    "\n",
    "print('Max of row a: ' + str(df['b'].max()) )\n",
    "\n",
    "n_df = df['a'].cumsum()\n",
    "print(n_df)\n",
    "\n",
    "df1 = df['a'].apply(lambda x: x**2)\n",
    "print(df1)\n",
    "\n",
    "for i in df.iteritems():\n",
    "    print(i)\n",
    "    \n",
    "    \n",
    "print(df)   "
   ]
  },
  {
   "cell_type": "code",
   "execution_count": 70,
   "id": "a48736c3-edf2-4e35-8f2e-8229cd1d5f28",
   "metadata": {},
   "outputs": [
    {
     "name": "stdout",
     "output_type": "stream",
     "text": [
      "   A  B     C\n",
      "1  1  7   Nil\n",
      "3  2  8  Nilu\n",
      "5  3  9  Nila\n",
      "7  4  2   Nir\n"
     ]
    }
   ],
   "source": [
    "'''Q2. Given a Pandas DataFrame df with columns 'A', 'B', and 'C', write a Python function to re-index the\n",
    "DataFrame with a new index that starts from 1 and increments by 2 for each row.'''\n",
    "\n",
    "def reindexing(df2):\n",
    "    df2 = df2.reset_index(drop=True)\n",
    "    df2.index = df2.index.map(lambda x: x * 2 + 1)\n",
    "    return df2\n",
    "    \n",
    "    \n",
    "\n",
    "data = {'A': [1,2,3,4],\n",
    "        'B': [7,8,9,2],\n",
    "        'C': ['Nil','Nilu','Nila','Nir']\n",
    "        \n",
    "}\n",
    "df2 = pd.DataFrame(data)\n",
    "df22 = reindexing(df2)\n",
    "print(df22)"
   ]
  },
  {
   "cell_type": "code",
   "execution_count": 71,
   "id": "5183188c-bbb6-4fc7-a9c6-704b5dac3845",
   "metadata": {},
   "outputs": [
    {
     "name": "stdout",
     "output_type": "stream",
     "text": [
      "Values    60\n",
      "dtype: int64\n"
     ]
    }
   ],
   "source": [
    "'''Q3. You have a Pandas DataFrame df with a column named 'Values'. Write a Python function that\n",
    "iterates over the DataFrame and calculates the sum of the first three values in the 'Values' column. The\n",
    "function should print the sum to the console.\n",
    "For example, if the 'Values' column of df contains the values [10, 20, 30, 40, 50], your function should\n",
    "calculate and print the sum of the first three values, which is 60.'''\n",
    "\n",
    "def Sum_of_three(df4):\n",
    "    sum1 = sum(df3[\"Values\"].iloc[:3])\n",
    "    return sum1                \n",
    "        \n",
    "    \n",
    "    \n",
    "\n",
    "data1 = {\"Values\":[10, 20, 30, 40, 50]}\n",
    "\n",
    "df3 = pd.DataFrame(data1)\n",
    "ans = df3.apply(Sum_of_three)\n",
    "print(ans)"
   ]
  },
  {
   "cell_type": "code",
   "execution_count": 72,
   "id": "e7f2bb33-97d7-4540-aa99-52ac7fabbc3e",
   "metadata": {},
   "outputs": [
    {
     "name": "stdout",
     "output_type": "stream",
     "text": [
      "                                                Text  Word_Count\n",
      "0  Data Science Masters course is highly curated ...          16\n",
      "1  This program instills students the skills esse...          36\n",
      "2                         My name is Nirmala Mondal.           5\n",
      "3                 I learn Datascience from PWSkills.           5\n"
     ]
    }
   ],
   "source": [
    "\"\"\"Q4.Given a Pandas DataFrame df with a column 'Text', write a Python function to create a new column\n",
    "'Word_Count' that contains the number of words in each row of the 'Text' column.\"\"\"\n",
    "\n",
    "df5 = pd.DataFrame({'Text':['Data Science Masters course is highly curated and uniquely designed according to the latest industry standards.',\n",
    "               'This program instills students the skills essential to knowledge discovery efforts to identify standard, novel, and truly differentiated solutions and decision-making, including skills in managing, querying, analyzing, visualizing, and extracting meaning from extremely large data sets.',\n",
    "              'My name is Nirmala Mondal.','I learn Datascience from PWSkills.'\n",
    "              ]})\n",
    "df5['Word_Count'] = df5['Text'].apply(lambda x : len(x.split()))\n",
    "print(df5)"
   ]
  },
  {
   "cell_type": "code",
   "execution_count": 73,
   "id": "735371a7-63f8-4469-b3c5-e5eb5bb50057",
   "metadata": {},
   "outputs": [
    {
     "name": "stdout",
     "output_type": "stream",
     "text": [
      "DataFrame Size :  12\n",
      "DataFrame Shape :  (4, 3)\n"
     ]
    }
   ],
   "source": [
    "#Q5. How are DataFrame.size() and DataFrame.shape() different?\n",
    "\n",
    "\n",
    "'''DataFrame.size returns the total number of elements in the DataFrame including NaN or missing values, which is calculated by multiplying the number\n",
    "of rows (DataFrame.shape[0]) by the number of columns (DataFrame.shape[1]).\n",
    "Other side,\n",
    "DataFrame.shape returns a tuple that represents the dimensions of the DataFrame, indicating the number of rows and columns in the DataFrame, respectively.\n",
    "The shape of a DataFrame is given as (number_of_rows, number_of_columns).\n",
    "'''\n",
    "\n",
    "\n",
    "df6 = pd.DataFrame({'A': [1,2,3,4],\n",
    "        'B': [7,8,9,2],\n",
    "        'C': ['Nil','Nilu','Nila','Nir']\n",
    "        \n",
    "})\n",
    "print(\"DataFrame Size : \" ,df6.size)\n",
    "print(\"DataFrame Shape : \" , df6.shape)\n"
   ]
  },
  {
   "cell_type": "code",
   "execution_count": 74,
   "id": "33502eee-7026-4149-8893-c8b0d3c2cf79",
   "metadata": {},
   "outputs": [
    {
     "name": "stdout",
     "output_type": "stream",
     "text": [
      "    Unnamed: 0  Unnamed: 1                                         Unnamed: 2\n",
      "0          NaN         NaN                                                NaN\n",
      "1          NaN         NaN                                                NaN\n",
      "2          NaN         NaN                                                NaN\n",
      "3          NaN         NaN                                    Downloaded From\n",
      "4          NaN         NaN                                  Excel Sample Data\n",
      "5          NaN         NaN                      Sample Data - Winter Athletes\n",
      "6          NaN         NaN                                                NaN\n",
      "7          NaN         NaN                                  Related tutorials\n",
      "8          NaN         NaN                               Create a Pivot Table\n",
      "9          NaN         NaN                      Pivot Table Summary Functions\n",
      "10         NaN         NaN                                                NaN\n",
      "11         NaN         NaN                                              Notes\n",
      "12         NaN         1.0  Athletes: data from Vancouver 2010 Winter Game...\n",
      "13         NaN         2.0            There are 4 athletes with 2 sports each\n",
      "14         NaN         NaN  You could separate those onto 8 lines, instead...\n",
      "15         NaN         NaN  To see them, sort or filter the Sport column b...\n"
     ]
    }
   ],
   "source": [
    "#Q6. Which function of pandas do we use to read an excel file?\n",
    "\n",
    "'''pandas.read_excel() is used to read excel file.'''\n",
    "\n",
    "excel_file_read =pd.read_excel('sampledatawinterathletes.xlsx') \n",
    "print(excel_file_read)"
   ]
  },
  {
   "cell_type": "code",
   "execution_count": 75,
   "id": "07086cbe-3d73-43e3-8537-a47109514f12",
   "metadata": {},
   "outputs": [
    {
     "name": "stdout",
     "output_type": "stream",
     "text": [
      "                         Email           Username\n",
      "0            nirmala@gmail.com            nirmala\n",
      "1      nirmalamondal@gmail.com      nirmalamondal\n",
      "2  nirmalamondal2002@gmail.com  nirmalamondal2002\n"
     ]
    }
   ],
   "source": [
    "'''Q7. You have a Pandas DataFrame df that contains a column named 'Email' that contains email\n",
    "addresses in the format 'username@domain.com'. Write a Python function that creates a new column\n",
    "'Username' in df that contains only the username part of each email address.\n",
    "The username is the part of the email address that appears before the '@' symbol. For example, if the\n",
    "email address is 'john.doe@example.com', the 'Username' column should contain 'john.doe'. Your\n",
    "function should extract the username from each email address and store it in the new 'Username'\n",
    "column.'''\n",
    "\n",
    "df7 = pd.DataFrame({'Email':['nirmala@gmail.com','nirmalamondal@gmail.com','nirmalamondal2002@gmail.com']})\n",
    "df7['Username'] = df7['Email'].str.split('@').str.get(0)\n",
    "print(df7)"
   ]
  },
  {
   "cell_type": "code",
   "execution_count": 76,
   "id": "3f609649-11e9-4861-83ad-555e3c291dbb",
   "metadata": {},
   "outputs": [
    {
     "name": "stdout",
     "output_type": "stream",
     "text": [
      "   A  B  C\n",
      "1  8  2  7\n",
      "2  6  9  4\n",
      "4  9  1  2\n"
     ]
    }
   ],
   "source": [
    "'''Q8. You have a Pandas DataFrame df with columns 'A', 'B', and 'C'. Write a Python function that selects\n",
    "all rows where the value in column 'A' is greater than 5 and the value in column 'B' is less than 10. The\n",
    "function should return a new DataFrame that contains only the selected rows.\n",
    "For example, if df contains the following values:\n",
    "  A B C\n",
    "0 3 5 1\n",
    "1 8 2 7\n",
    "2 6 9 4\n",
    "3 2 3 5\n",
    "4 9 1 2\n",
    "Your function should select the following rows: \n",
    "  A B C\n",
    "1 8 2 7\n",
    "4 9 1 2\n",
    "The function should return a new DataFrame that contains only the selected rows.'''\n",
    "\n",
    "def filter_out_data(df8):\n",
    "    n_df8 = df8[(df8['A']>5) & (df8['B']<10)]\n",
    "    return n_df8        \n",
    "            \n",
    "\n",
    "df8 = pd.DataFrame({'A':[3,8,6,2,9],'B':[5,2,9,3,1],'C':[1,7,4,5,2]})\n",
    "new_df8 = filter_out_data(df8)\n",
    "\n",
    "print(new_df8)"
   ]
  },
  {
   "cell_type": "code",
   "execution_count": 77,
   "id": "7d2d262e-c126-4fe1-92f4-7adaf7465e25",
   "metadata": {},
   "outputs": [
    {
     "name": "stdout",
     "output_type": "stream",
     "text": [
      "30.0\n",
      "30.0\n",
      "15.811388300841896\n"
     ]
    }
   ],
   "source": [
    "'''Q9. Given a Pandas DataFrame df with a column 'Values', write a Python function to calculate the mean,\n",
    "median, and standard deviation of the values in the 'Values' column.'''\n",
    "\n",
    "\n",
    "df9 = pd.DataFrame({\"Values\":[10, 20, 30, 40, 50]})\n",
    "print(df9['Values'].mean())\n",
    "print(df9['Values'].median())\n",
    "print(df9['Values'].std())\n"
   ]
  },
  {
   "cell_type": "code",
   "execution_count": 78,
   "id": "820baaf1-543e-4fab-accc-296b8790d2d7",
   "metadata": {},
   "outputs": [
    {
     "name": "stdout",
     "output_type": "stream",
     "text": [
      "    Sales       Date  MovingAverage\n",
      "0      10 2023-06-01            NaN\n",
      "1      23 2023-06-02            NaN\n",
      "2      20 2023-06-03            NaN\n",
      "3      12 2023-06-04            NaN\n",
      "4      15 2023-06-05            NaN\n",
      "5      23 2023-06-06            NaN\n",
      "6      17 2023-06-07      17.142857\n",
      "7      23 2023-06-08      19.000000\n",
      "8      17 2023-06-09      18.142857\n",
      "9      23 2023-06-10      18.571429\n",
      "10     30 2023-06-11      21.142857\n",
      "11     25 2023-06-12      22.571429\n",
      "12     23 2023-06-13      22.571429\n",
      "13     20 2023-06-14      23.000000\n",
      "14     25 2023-06-15      23.285714\n",
      "15     30 2023-06-16      25.142857\n",
      "16     35 2023-06-17      26.857143\n"
     ]
    }
   ],
   "source": [
    "'''Q10. Given a Pandas DataFrame df with a column 'Sales' and a column 'Date', write a Python function to\n",
    "create a new column 'MovingAverage' that contains the moving average of the sales for the past 7 days\n",
    "for each row in the DataFrame. The moving average should be calculated using a window of size 7 and\n",
    "should include the current day.'''\n",
    "\n",
    "date = pd.date_range(start = '2023-06-01',end = '2023-06-17')\n",
    "df10 = pd.DataFrame({'Sales':[10,23,20,12,15,23,17,23,17,23,30,25,23,20,25,30,35],'Date':date})\n",
    "df10['MovingAverage'] = df10['Sales'].rolling(window = 7).mean()\n",
    "print(df10)"
   ]
  },
  {
   "cell_type": "code",
   "execution_count": 83,
   "id": "0d4e9c02-d670-47f5-b0a7-c85ae4d94d2a",
   "metadata": {},
   "outputs": [
    {
     "name": "stdout",
     "output_type": "stream",
     "text": [
      "        Date    Weekday\n",
      "0 2023-01-01     Sunday\n",
      "1 2023-01-02     Monday\n",
      "2 2023-01-03    Tuesday\n",
      "3 2023-01-04  Wednesday\n",
      "4 2023-01-05   Thursday\n"
     ]
    }
   ],
   "source": [
    "'''Q11. You have a Pandas DataFrame df with a column 'Date'. Write a Python function that creates a new\n",
    "column 'Weekday' in the DataFrame. The 'Weekday' column should contain the weekday name (e.g.\n",
    "Monday, Tuesday) corresponding to each date in the 'Date' column.\n",
    "For example, if df contains the following values:\n",
    "Date\n",
    "0 2023-01-01\n",
    "1 2023-01-02\n",
    "2 2023-01-03\n",
    "3 2023-01-04\n",
    "4 2023-01-05\n",
    "Your function should create the following DataFrame:\n",
    "\n",
    "Date Weekday\n",
    "0 2023-01-01 Sunday\n",
    "1 2023-01-02 Monday\n",
    "2 2023-01-03 Tuesday\n",
    "3 2023-01-04 Wednesday\n",
    "4 2023-01-05 Thursday\n",
    "The function should return the modified DataFrame.'''\n",
    "\n",
    "date1 = pd.date_range(start = '2023-01-01',end = '2023-01-05')\n",
    "df11 = pd.DataFrame({'Date':date1})\n",
    "df11['Weekday'] = df11['Date'].dt.day_name()\n",
    "print(df11)"
   ]
  },
  {
   "cell_type": "code",
   "execution_count": 87,
   "id": "6b34083d-5e71-4e8b-8fa8-b95e415f8c2f",
   "metadata": {},
   "outputs": [
    {
     "name": "stdout",
     "output_type": "stream",
     "text": [
      "         Date filter_Date\n",
      "1  2023-01-05  2023-01-05\n",
      "2  2023-01-23  2023-01-23\n",
      "5  2023-01-20  2023-01-20\n",
      "7  2023-01-24  2023-01-24\n"
     ]
    }
   ],
   "source": [
    "'''Q12. Given a Pandas DataFrame df with a column 'Date' that contains timestamps, write a Python\n",
    "function to select all rows where the date is between '2023-01-01' and '2023-01-31'.'''\n",
    "\n",
    "\n",
    "df12 = pd.DataFrame({'Date': ['2023-02-06','2023-01-05','2023-01-23','2023-09-12','2023-01-31','2023-01-20','2023-02-01','2023-01-24']})\n",
    "df12['filter_Date'] = pd.to_datetime(df12['Date'])\n",
    "n_df12 = df12[(df12['filter_Date'] > '2023-01-01') & (df12['filter_Date'] < '2023-01-31')]\n",
    "print(n_df12)"
   ]
  },
  {
   "cell_type": "code",
   "execution_count": null,
   "id": "88ed3542-3941-4039-a8c1-dfd6767ca458",
   "metadata": {},
   "outputs": [],
   "source": [
    "#Q13.To use the basic functions of pandas, what is the first and foremost necessary library that needs to be imported?\n",
    "\n",
    "\n",
    "''' To use the basic functions of pandas, \"pandas\" is the first and foremost necessary library that needs to\n",
    "be imported. Without panda library we can not use any function of pandas.'''"
   ]
  }
 ],
 "metadata": {
  "kernelspec": {
   "display_name": "Python 3 (ipykernel)",
   "language": "python",
   "name": "python3"
  },
  "language_info": {
   "codemirror_mode": {
    "name": "ipython",
    "version": 3
   },
   "file_extension": ".py",
   "mimetype": "text/x-python",
   "name": "python",
   "nbconvert_exporter": "python",
   "pygments_lexer": "ipython3",
   "version": "3.10.8"
  }
 },
 "nbformat": 4,
 "nbformat_minor": 5
}
