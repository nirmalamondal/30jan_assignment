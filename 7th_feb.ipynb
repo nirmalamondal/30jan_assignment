{
 "cells": [
  {
   "cell_type": "code",
   "execution_count": 14,
   "id": "045f6483-4399-4b80-9b9c-218977e511ca",
   "metadata": {},
   "outputs": [
    {
     "name": "stdin",
     "output_type": "stream",
     "text": [
      "Enter Your  Password 54gdfsjdnQkJ*&^R\n"
     ]
    },
    {
     "name": "stdout",
     "output_type": "stream",
     "text": [
      "Valid Password\n"
     ]
    }
   ],
   "source": [
    "''' Q1. You are writing code for a company. The requirement of the company is that you create a python\n",
    "function that will check whether the password entered by the user is correct or not. The function should\n",
    "take the password as input and return the string “Valid Password” if the entered password follows the\n",
    "below-given password guidelines else it should return “Invalid Password”.\n",
    "Note: 1. The Password should contain at least two uppercase letters and at least two lowercase letters.\n",
    "2. The Password should contain at least a number and three special characters.\n",
    "3. The length of the password should be 10 characters long.\n",
    "'''\n",
    "\n",
    "def valid_or_not(password):\n",
    "    up,lo,n,sc = 0,0,0,0\n",
    "    if len(password) >= 10:\n",
    "        for i in password:\n",
    "            if i >= 'A' and i <= 'Z':\n",
    "                up += 1\n",
    "            elif i >= 'a' and i <= 'z':\n",
    "                lo += 1\n",
    "            elif i >= '1' and i <= '9':\n",
    "                n += 1\n",
    "            else:\n",
    "                sc += 1\n",
    "        if up>=2 and lo>=2 and n>=1 and sc>=3:\n",
    "            return \"Valid Password\"\n",
    "        else:\n",
    "            return \"Invalid Password\"\n",
    "    else:\n",
    "        return \"Invalid Password\"\n",
    "        \n",
    "password = input(\"Enter Your  Password\")\n",
    "print(valid_or_not(password))"
   ]
  },
  {
   "cell_type": "code",
   "execution_count": 15,
   "id": "3f767c82-c8a5-47ca-a03a-3aec93a7ad17",
   "metadata": {},
   "outputs": [
    {
     "name": "stdin",
     "output_type": "stream",
     "text": [
      "Enter the string:  yrthrj\n",
      "Enter your desired letter:  l\n"
     ]
    },
    {
     "name": "stdout",
     "output_type": "stream",
     "text": [
      "False\n"
     ]
    }
   ],
   "source": [
    "''' Q2.(i) Check if the string starts with a particular letter\n",
    "'''\n",
    "ans = lambda s1,letter1:True if s1[0]==letter1 else False\n",
    "s = input(\"Enter the string: \")\n",
    "letter = input(\"Enter your desired letter: \")\n",
    "s1 = s.upper()\n",
    "letter1 = letter.upper()\n",
    "print(ans(s1,letter1))            "
   ]
  },
  {
   "cell_type": "code",
   "execution_count": 16,
   "id": "0a4f4709-9b63-4ad8-896e-b3959eed4fdd",
   "metadata": {},
   "outputs": [
    {
     "name": "stdin",
     "output_type": "stream",
     "text": [
      "enter the string 5765789\n"
     ]
    },
    {
     "name": "stdout",
     "output_type": "stream",
     "text": [
      "True\n"
     ]
    }
   ],
   "source": [
    "''' Q2.(ii) Check if the string is numeric '''\n",
    "counter = lambda s: True if s.isnumeric() else False \n",
    "string = input(\"enter the string\")\n",
    "print(counter(string))"
   ]
  },
  {
   "cell_type": "code",
   "execution_count": 17,
   "id": "bb419fcd-4376-4cbd-9112-c4c5a02f9b2e",
   "metadata": {},
   "outputs": [
    {
     "name": "stdout",
     "output_type": "stream",
     "text": [
      "[('orange', 80), ('mango', 99), ('grapes', 1000)]\n"
     ]
    }
   ],
   "source": [
    "''' Q2.(iii) Sort a list of tuples having fruit names and their quantity. [(\"mango\",99),(\"orange\",80), (\"grapes\", 1000)]\n",
    "'''\n",
    "fruit =  [(\"mango\",99),(\"orange\",80), (\"grapes\", 1000)]\n",
    "sorted_fruit = sorted(fruit,key= lambda i : i[1])\n",
    "print(sorted_fruit)"
   ]
  },
  {
   "cell_type": "code",
   "execution_count": 23,
   "id": "0feedb50-17d6-4e4a-be4f-9f31bce54db2",
   "metadata": {},
   "outputs": [
    {
     "name": "stdout",
     "output_type": "stream",
     "text": [
      "[1, 4, 9, 16, 25, 36, 49, 64, 81, 100]\n"
     ]
    }
   ],
   "source": [
    "''' Q2.(iv)Find the squares of numbers from 1 to 10 '''\n",
    "nums = list(map(lambda x : x**2,[ i for i in range(1,11)]))\n",
    "#num = [1,2,3,4,5,6,7,8,9,10]\n",
    "print(nums)"
   ]
  },
  {
   "cell_type": "code",
   "execution_count": 24,
   "id": "4b6b4085-6a6b-4e0c-8679-d5a1936e9fba",
   "metadata": {},
   "outputs": [
    {
     "name": "stdout",
     "output_type": "stream",
     "text": [
      "[1.0, 1.2599210498948732, 1.4422495703074083, 1.5874010519681994, 1.7099759466766968, 1.8171205928321397, 1.912931182772389, 2.0, 2.080083823051904, 2.154434690031884]\n"
     ]
    }
   ],
   "source": [
    "''' Q2.(v) Find the cube root of numbers from 1 to 10 '''\n",
    "numbers = list(map(lambda x: x**(1/3),[ i for i in range(1,11)]))\n",
    "print(numbers)"
   ]
  },
  {
   "cell_type": "code",
   "execution_count": 26,
   "id": "25a94cc4-93bc-4ce5-be60-0457ac0ba274",
   "metadata": {},
   "outputs": [
    {
     "name": "stdin",
     "output_type": "stream",
     "text": [
      "Enter the number 18\n"
     ]
    },
    {
     "name": "stdout",
     "output_type": "stream",
     "text": [
      "yes it is a even number\n"
     ]
    }
   ],
   "source": [
    "''' Q2.(vi) Check if a given number is even '''\n",
    "ans = lambda x:\"yes it is a even number\" if x%2 == 0 else \"No it is not a even number\" \n",
    "numb = int(input(\"Enter the number\"))\n",
    "print(ans(numb))"
   ]
  },
  {
   "cell_type": "code",
   "execution_count": 30,
   "id": "87b11f90-0081-4519-a372-9d7bcc837942",
   "metadata": {},
   "outputs": [
    {
     "name": "stdout",
     "output_type": "stream",
     "text": [
      "[1, 3, 5, 7, 9]\n"
     ]
    }
   ],
   "source": [
    "''' Q2.(vii) Filter odd numbers from the given list.\n",
    "[1,2,3,4,5,6,7,8,9,10]\n",
    "'''\n",
    "odd_find = [1,2,3,4,5,6,7,8,9,10]\n",
    "odd = list(filter(lambda x: x%2 !=0 , odd_find))\n",
    "print(odd)"
   ]
  },
  {
   "cell_type": "code",
   "execution_count": 34,
   "id": "c4503f9a-7955-49ef-8ab9-2a4608fb1ca5",
   "metadata": {},
   "outputs": [
    {
     "name": "stdout",
     "output_type": "stream",
     "text": [
      "Whole sorted list: \n",
      "[-5, -4, -3, -2, -1, 0, 1, 2, 3, 4, 5, 6]\n",
      "Positive sorted list: \n",
      "[0, 1, 2, 3, 4, 5, 6]\n",
      "Negative sorted list: \n",
      "[-5, -4, -3, -2, -1]\n"
     ]
    }
   ],
   "source": [
    "''' Q2.(viii) Sort a list of integers into positive and negative integers lists.\n",
    "[1,2,3,4,5,6,-1,-2,-3,-4,-5,0] '''\n",
    "l4 = [1,2,3,4,5,6,-1,-2,-3,-4,-5,0] \n",
    "l5 = sorted(l4,key = lambda x:x)\n",
    "print(\"Whole sorted list: \")\n",
    "print(l5)\n",
    "l6 = sorted((filter(lambda x : x >=0,l4)))\n",
    "print(\"Positive sorted list: \")\n",
    "print(l6)\n",
    "l7 = sorted((filter(lambda x : x <0,l4)))\n",
    "print(\"Negative sorted list: \")\n",
    "print(l7)"
   ]
  },
  {
   "cell_type": "code",
   "execution_count": null,
   "id": "1ebbd6eb-cb07-479f-8517-f9f4c1118f62",
   "metadata": {},
   "outputs": [],
   "source": []
  }
 ],
 "metadata": {
  "kernelspec": {
   "display_name": "Python 3 (ipykernel)",
   "language": "python",
   "name": "python3"
  },
  "language_info": {
   "codemirror_mode": {
    "name": "ipython",
    "version": 3
   },
   "file_extension": ".py",
   "mimetype": "text/x-python",
   "name": "python",
   "nbconvert_exporter": "python",
   "pygments_lexer": "ipython3",
   "version": "3.10.8"
  }
 },
 "nbformat": 4,
 "nbformat_minor": 5
}
