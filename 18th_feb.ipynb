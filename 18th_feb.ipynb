{
 "cells": [
  {
   "cell_type": "code",
   "execution_count": null,
   "id": "d53fdbfe-c561-4411-b2d8-15ca5d32bf6b",
   "metadata": {},
   "outputs": [],
   "source": [
    "''' Q1. What is an API? Give an example, where an API is used in real life. '''\n",
    "\n",
    "API stands for Application Programming Interface that allows software applications to interact with each other.\n",
    "when we use google map it is actually connect different web app so it can get geographical data."
   ]
  },
  {
   "cell_type": "code",
   "execution_count": null,
   "id": "20ffa720-75f5-47e3-9d05-4971f90e4062",
   "metadata": {},
   "outputs": [],
   "source": [
    "''' Q2. Give advantages and disadvantages of using API.'''\n",
    "Advantages - 1. The end product offers user-friendly experiences improving internal and external user satisfaction.\n",
    "             2. APIs offer reliable transaction sets.\n",
    "    \n",
    "Disadvantages - 1. Implementing and providing API capabilities can be costly.\n",
    "                2. Scaling API requires extensive programming knowledge.\n",
    "                3. API is a gateway and can become a hacker's primary target."
   ]
  },
  {
   "cell_type": "code",
   "execution_count": null,
   "id": "4398d6f2-7cea-49ab-9ce9-712e92a79348",
   "metadata": {},
   "outputs": [],
   "source": [
    "''' Q3. What is a Web API? Differentiate between API and Web API.'''\n",
    "A Web API is an application programming interface for the Web which is build using HTTP protocol.\n",
    "API is a software intermediary that allows two applications to talk to each other."
   ]
  },
  {
   "cell_type": "code",
   "execution_count": null,
   "id": "4cad424c-d6c1-47bd-8790-d6103ebebc23",
   "metadata": {},
   "outputs": [],
   "source": [
    "''' Q4. Explain REST and SOAP Architecture. Mention shortcomings of SOAP.'''\n",
    "REST architecture is easy to used & build with HTTP protocol. It is more scalable, relaible.It used for complex things. REST transport data \n",
    "in JSON format.It works with get, put,post,delete.\n",
    "\n",
    "SOAP architecture is not so easy to used . It is XML based. It is not so much  scalable or relaible. Complex things can not be handle using\n",
    "SOAP.It transport data in XML format.It works with WSDL.\n",
    "\n"
   ]
  },
  {
   "cell_type": "code",
   "execution_count": null,
   "id": "ec49b677-8409-4457-8cac-a55146add775",
   "metadata": {},
   "outputs": [],
   "source": [
    "''' Q5. Differentiate between REST and SOAP.'''\n",
    "REST architecture is easy to used compare to SOAP. REST is more scalable, relaible where as SOAP is less relaibale. REST is used for complex\n",
    "things and SOAP is used for less complex things. REST transport data in JSON format and SOAP transport data in XML format.REST works with \n",
    "get, put,post,delete in otherside SOAP works with WSDL."
   ]
  }
 ],
 "metadata": {
  "kernelspec": {
   "display_name": "Python 3 (ipykernel)",
   "language": "python",
   "name": "python3"
  },
  "language_info": {
   "codemirror_mode": {
    "name": "ipython",
    "version": 3
   },
   "file_extension": ".py",
   "mimetype": "text/x-python",
   "name": "python",
   "nbconvert_exporter": "python",
   "pygments_lexer": "ipython3",
   "version": "3.10.8"
  }
 },
 "nbformat": 4,
 "nbformat_minor": 5
}
