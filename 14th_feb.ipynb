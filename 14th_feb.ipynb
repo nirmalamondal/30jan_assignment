{
 "cells": [
  {
   "cell_type": "code",
   "execution_count": null,
   "id": "8382d371-579e-4d9b-bf08-b486c7dcb285",
   "metadata": {},
   "outputs": [],
   "source": [
    "''' . what is multithreading in python? why is it used? Name the module used to handle threads in python '''\n",
    "\n",
    "Multithreading is a process of running multiple threads simultaneously within a single process.\n",
    "Multithreading is used to achieve better utilization & to improve performance.\n",
    "threading module is used to handle threads in python. "
   ]
  },
  {
   "cell_type": "code",
   "execution_count": null,
   "id": "21f055da-f5e1-4844-88ad-3146b66e147e",
   "metadata": {},
   "outputs": [],
   "source": [
    "''' . why threading module used? write the use of the following functions:\n",
    "1.activeCount()\n",
    "2.currentThread()\n",
    "3.enumerate() '''\n",
    "\n",
    "threading module is used to create a thread .\n",
    "1.activeCount()  -- Returns the number of active or running thread objects.\n",
    "2.currentThread() -- Returns the number of thread objects in the caller's thread control.\n",
    "3.enumerate() -- Returns a list of all thread objects that are currently active."
   ]
  },
  {
   "cell_type": "code",
   "execution_count": null,
   "id": "981a5629-9b00-45c0-8ada-c99acd23a77c",
   "metadata": {},
   "outputs": [],
   "source": [
    "''' 3. Explain the following functions:'''\n",
    "1.run() -- is the entry point for a thread.\n",
    "2.start() -- starts a thread\n",
    "3.join() --  waits for threads to terminate.\n",
    "4.isAlive() -- checks whether a thread is still executing."
   ]
  },
  {
   "cell_type": "code",
   "execution_count": 11,
   "id": "d18f7e05-7dd0-4bd9-9ae0-d493d3825b98",
   "metadata": {},
   "outputs": [
    {
     "name": "stdout",
     "output_type": "stream",
     "text": [
      "[1, 4, 9, 16, 25]\n",
      "[1, 8, 27, 64, 125]\n"
     ]
    }
   ],
   "source": [
    "'''Q4.write a python program to create two threads. Thread one must print the list of squares and thread two must print the list of cubes.'''\n",
    "import threading \n",
    "\n",
    "l1 = []\n",
    "l2 = []\n",
    "\n",
    "def square(arr):\n",
    "    for i in arr:\n",
    "        l1.append(i**2)\n",
    "        \n",
    "def cubes(arr):\n",
    "    for i in arr:\n",
    "        l2.append(i**3)        \n",
    "    \n",
    "arr = [1,2,3,4,5]\n",
    "thread1 = threading.Thread(target = square, args =(arr,))\n",
    "thread2 = threading.Thread(target = cubes, args =(arr,))\n",
    "thread1.start()\n",
    "thread2.start()\n",
    "thread1.join()\n",
    "thread2.join()\n",
    "print(l1)\n",
    "print(l2)"
   ]
  },
  {
   "cell_type": "code",
   "execution_count": null,
   "id": "af9ad46b-a88c-4c5b-9ab5-cdda2960f420",
   "metadata": {},
   "outputs": [],
   "source": [
    "''' Q5.State advantages and disadvantages of multithreading '''\n",
    "Advantages - 1. Increase the cpu utilization.\n",
    "             2. Improve performance\n",
    "             3. Provide synchronization\n",
    "        \n",
    "Disadvantages - 1. Consume large space\n",
    "                2. Imposes context switching overhead"
   ]
  },
  {
   "cell_type": "code",
   "execution_count": null,
   "id": "6548d882-167d-4c63-957b-d3dfc381abc6",
   "metadata": {},
   "outputs": [],
   "source": [
    "''' Q6. Explain deadlocks and race conditions. '''\n",
    "When two threads are waiting for shared resources acquired by others then none of them able to proceed further then a situation occured where both\n",
    "threads are stop. This situation is called as deadlock.\n",
    "\n",
    "When two threads are used the shared variable the race condition is happend. Let suppose a variable credit() is called by thread1 & pass the value of \n",
    "100 and another side thread2 is called & it pass the value 200 then the value will be updated of that variable by 100 but for thread2 it wants to \n",
    "update the value by 200 but the actual change will be happend after the value updated by 100. So the total change for thread2 will be 300."
   ]
  }
 ],
 "metadata": {
  "kernelspec": {
   "display_name": "Python 3 (ipykernel)",
   "language": "python",
   "name": "python3"
  },
  "language_info": {
   "codemirror_mode": {
    "name": "ipython",
    "version": 3
   },
   "file_extension": ".py",
   "mimetype": "text/x-python",
   "name": "python",
   "nbconvert_exporter": "python",
   "pygments_lexer": "ipython3",
   "version": "3.10.8"
  }
 },
 "nbformat": 4,
 "nbformat_minor": 5
}
