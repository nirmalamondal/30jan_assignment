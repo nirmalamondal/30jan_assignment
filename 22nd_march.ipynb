{
 "cells": [
  {
   "cell_type": "code",
   "execution_count": 1,
   "id": "e906978f-affe-40b9-8cf8-8e43b736840d",
   "metadata": {},
   "outputs": [
    {
     "data": {
      "text/html": [
       "<div>\n",
       "<style scoped>\n",
       "    .dataframe tbody tr th:only-of-type {\n",
       "        vertical-align: middle;\n",
       "    }\n",
       "\n",
       "    .dataframe tbody tr th {\n",
       "        vertical-align: top;\n",
       "    }\n",
       "\n",
       "    .dataframe thead th {\n",
       "        text-align: right;\n",
       "    }\n",
       "</style>\n",
       "<table border=\"1\" class=\"dataframe\">\n",
       "  <thead>\n",
       "    <tr style=\"text-align: right;\">\n",
       "      <th></th>\n",
       "      <th>studying_time</th>\n",
       "      <th>exam_scores</th>\n",
       "    </tr>\n",
       "  </thead>\n",
       "  <tbody>\n",
       "    <tr>\n",
       "      <th>studying_time</th>\n",
       "      <td>1.000000</td>\n",
       "      <td>0.904194</td>\n",
       "    </tr>\n",
       "    <tr>\n",
       "      <th>exam_scores</th>\n",
       "      <td>0.904194</td>\n",
       "      <td>1.000000</td>\n",
       "    </tr>\n",
       "  </tbody>\n",
       "</table>\n",
       "</div>"
      ],
      "text/plain": [
       "               studying_time  exam_scores\n",
       "studying_time       1.000000     0.904194\n",
       "exam_scores         0.904194     1.000000"
      ]
     },
     "execution_count": 1,
     "metadata": {},
     "output_type": "execute_result"
    }
   ],
   "source": [
    "'''Q1. Pearson correlation coefficient is a measure of the linear relationship between two variables. Suppose\n",
    "you have collected data on the amount of time students spend studying for an exam and their final exam\n",
    "scores. Calculate the Pearson correlation coefficient between these two variables and interpret the result.'''\n",
    "\n",
    "import pandas as pd\n",
    "studying_time = [10, 5, 8, 7, 6]\n",
    "exam_scores = [90, 75, 85, 80, 70]\n",
    "df = pd.DataFrame({'studying_time':[10, 5, 8, 7, 6],'exam_scores': [90, 75, 85, 80, 70]})\n",
    "df.corr(method = 'pearson')\n",
    "\n",
    "\n",
    "'''If the Pearson correlation coefficient is close to +1, it indicates a strong positive correlation, suggesting that as the amount of time spent studying increases, the \n",
    "final exam scores also tend to increase. In other words, there is a positive linear relationship between studying time and exam scores.\n",
    "If the Pearson correlation coefficient is close to -1, it indicates a strong negative correlation, suggesting that as the amount of time spent studying increases, \n",
    "the final exam scores tend to decrease. In this case, there is a negative linear relationship between studying time and exam scores.\n",
    "If the Pearson correlation coefficient is close to 0, it indicates a weak or no correlation between the two variables. This suggests that there is no significant linear\n",
    "relationship between studying time and exam scores.\n",
    "\n",
    "\n",
    "here the corelation is near to +1 which indicates the strong positive correlation means the amount of time spent studying increases, the final exam scores also tend \n",
    "to increase. '''"
   ]
  },
  {
   "cell_type": "code",
   "execution_count": 1,
   "id": "15ec95f4-528b-469d-835c-2a885c02de3b",
   "metadata": {},
   "outputs": [
    {
     "data": {
      "text/html": [
       "<div>\n",
       "<style scoped>\n",
       "    .dataframe tbody tr th:only-of-type {\n",
       "        vertical-align: middle;\n",
       "    }\n",
       "\n",
       "    .dataframe tbody tr th {\n",
       "        vertical-align: top;\n",
       "    }\n",
       "\n",
       "    .dataframe thead th {\n",
       "        text-align: right;\n",
       "    }\n",
       "</style>\n",
       "<table border=\"1\" class=\"dataframe\">\n",
       "  <thead>\n",
       "    <tr style=\"text-align: right;\">\n",
       "      <th></th>\n",
       "      <th>sleep</th>\n",
       "      <th>job_satisfaction</th>\n",
       "    </tr>\n",
       "  </thead>\n",
       "  <tbody>\n",
       "    <tr>\n",
       "      <th>sleep</th>\n",
       "      <td>1.000000</td>\n",
       "      <td>0.666886</td>\n",
       "    </tr>\n",
       "    <tr>\n",
       "      <th>job_satisfaction</th>\n",
       "      <td>0.666886</td>\n",
       "      <td>1.000000</td>\n",
       "    </tr>\n",
       "  </tbody>\n",
       "</table>\n",
       "</div>"
      ],
      "text/plain": [
       "                     sleep  job_satisfaction\n",
       "sleep             1.000000          0.666886\n",
       "job_satisfaction  0.666886          1.000000"
      ]
     },
     "execution_count": 1,
     "metadata": {},
     "output_type": "execute_result"
    }
   ],
   "source": [
    "'''Q2. Spearman's rank correlation is a measure of the monotonic relationship between two variables.\n",
    "Suppose you have collected data on the amount of sleep individuals get each night and their overall job\n",
    "satisfaction level on a scale of 1 to 10. Calculate the Spearman's rank correlation between these two\n",
    "variables and interpret the result.'''\n",
    "\n",
    "import pandas as pd\n",
    "sleep = [6, 7, 5, 8, 6] \n",
    "job_satisfaction = [8, 7, 6, 9, 5]\n",
    "\n",
    "df1 = pd.DataFrame({'sleep':[6, 7, 5, 8, 6],'job_satisfaction':[8, 7, 6, 9, 5]})\n",
    "df1.corr(method = 'spearman')\n",
    "\n",
    "\n",
    "'''If the correlation coefficient is close to +1, it indicates a strong positive monotonic relationship, suggesting that as the amount of sleep individuals get each night\n",
    "increases, their job satisfaction levels tend to increase.\n",
    "If the correlation coefficient is close to -1, it indicates a strong negative monotonic relationship, suggesting that as the amount of sleep individuals get each night\n",
    "increases, their job satisfaction levels tend to decrease.\n",
    "If the correlation coefficient is close to 0, it suggests a weak or no monotonic relationship between the two variables. '''"
   ]
  },
  {
   "cell_type": "code",
   "execution_count": 5,
   "id": "aaaedca1-adf1-4b9a-94b0-391f9665d72f",
   "metadata": {},
   "outputs": [
    {
     "name": "stdout",
     "output_type": "stream",
     "text": [
      "Pearson_Correlation: \n",
      "                exercise_hours       bmi\n",
      "exercise_hours        1.000000 -0.087174\n",
      "bmi                  -0.087174  1.000000\n",
      "Spearman_Correlation: \n",
      "                exercise_hours       bmi\n",
      "exercise_hours        1.000000 -0.084699\n",
      "bmi                  -0.084699  1.000000\n"
     ]
    }
   ],
   "source": [
    "'''Q3. Suppose you are conducting a study to examine the relationship between the number of hours of\n",
    "exercise per week and body mass index (BMI) in a sample of adults. You collected data on both variables\n",
    "for 50 participants. Calculate the Pearson correlation coefficient and the Spearman's rank correlationbetween these two variables and compare the results.'''\n",
    "\n",
    "import pandas as pd\n",
    "exercise_hours = [4, 6, 2, 5, 3, 2, 3, 4, 5, 6, 1, 3, 4, 2, 5, 6, 1, 2, 3, 4, 5, 1, 2, 3, 4, 5,\n",
    "                  6, 3, 4, 2, 5, 3, 1, 2, 4, 6, 5, 3, 2, 1, 4, 3, 2, 5, 6, 4, 2, 3, 1, 5]\n",
    "bmi = [23.1, 25.5, 28.4, 26.2, 22.8, 31.7, 27.3, 24.6, 26.8, 29.1, 31.5, 27.9, 24.1, 28.6, 23.5,\n",
    "       25.9, 30.2, 29.4, 26.7, 25.3, 27.1, 29.9, 26.3, 23.9, 27.8, 25.7, 30.4, 28.1, 25.1, 23.7,\n",
    "       27.5, 29.6, 25.8, 23.3, 24.9, 26.5, 31.1, 28.9, 24.3, 23.4, 26.6, 25.2, 30.6, 27.7, 29.3,\n",
    "       25.6, 24.8, 28.2, 30.1,29.3]\n",
    "\n",
    "df2 = pd.DataFrame({'exercise_hours' : [4, 6, 2, 5, 3, 2, 3, 4, 5, 6, 1, 3, 4, 2, 5, 6, 1, 2, 3, 4, 5, 1, 2, 3, 4, 5,\n",
    "                  6, 3, 4, 2, 5, 3, 1, 2, 4, 6, 5, 3, 2, 1, 4, 3, 2, 5, 6, 4, 2, 3, 1, 5],\n",
    "                  'bmi' : [23.1, 25.5, 28.4, 26.2, 22.8, 31.7, 27.3, 24.6, 26.8, 29.1, 31.5, 27.9, 24.1, 28.6, 23.5,\n",
    "                           25.9, 30.2, 29.4, 26.7, 25.3, 27.1, 29.9, 26.3, 23.9, 27.8, 25.7, 30.4, 28.1, 25.1, 23.7,\n",
    "                           27.5, 29.6, 25.8, 23.3, 24.9, 26.5, 31.1, 28.9, 24.3, 23.4, 26.6, 25.2, 30.6, 27.7, 29.3,\n",
    "                           25.6, 24.8, 28.2, 30.1,29.3]})\n",
    "\n",
    "\n",
    "p_corr = df2.corr(method = 'pearson')\n",
    "s_corr = df2.corr(method = 'spearman')\n",
    "\n",
    "print(\"Pearson_Correlation: \")\n",
    "print(p_corr)\n",
    "print(\"Spearman_Correlation: \")\n",
    "print(s_corr)\n",
    "\n",
    "\n",
    "\n",
    "\n",
    "'''If the Pearson correlation coefficient and Spearman's rank correlation coefficient are both close to +1, it indicates a strong positive correlation, suggesting that as\n",
    "the number of hours of exercise per week increases, the BMI tends to decrease. If both coefficients are close to -1, it indicates a strong negative correlation,\n",
    "suggesting that as the number of hours of exercise per week increases, the BMI tends to increase. If both coefficients are close to 0, it suggests a weak or no correlation\n",
    "between the two variables. The Pearson correlation coefficient measures the linear relationship between variables, assuming they follow a normal distribution. On the other\n",
    "hand, Spearman's rank correlation coefficient measures the monotonic relationship, which evaluates how the variables move together regardless of the specific pattern (linear\n",
    "or non-linear) and  without assuming a specific distribution.Comparing the two coefficients can provide insights into the nature of the relationship between exercise hours \n",
    "and BMI. If both coefficients have similar magnitudes and signs, it suggests a consistent relationship. However, if the magnitudes or signs differ, it indicates a non-linear\n",
    "relationship or potential outliers in the data.\n",
    "\n",
    "\n",
    "Here both coefficients have similar magnitudes and signs, which suggests a consistent relationship.'''\n",
    "\n",
    "\n",
    "\n",
    "\n",
    "\n"
   ]
  },
  {
   "cell_type": "code",
   "execution_count": 8,
   "id": "ec18d765-c316-48a2-b4f4-5ca9ae716b3b",
   "metadata": {},
   "outputs": [
    {
     "name": "stdout",
     "output_type": "stream",
     "text": [
      "Pearson_Correlation: \n",
      "                   tv_hours  physical_activity\n",
      "tv_hours           1.000000          -0.013399\n",
      "physical_activity -0.013399           1.000000\n"
     ]
    }
   ],
   "source": [
    "'''Q4.A researcher is interested in examining the relationship between the number of hours individuals spend watching television per day and their level of physical activity.\n",
    "The researcher collected data on both variables from a sample of 50 participants. Calculate the Pearson correlation coefficient between these two variables.'''\n",
    "\n",
    "\n",
    "\n",
    "import pandas as pd\n",
    "tv_hours = [3, 2, 4, 5, 2, 3, 1, 4, 5, 2, 3, 1, 4, 3, 2, 5, 6, 4, 2, 3, 1, 5, 6, 4, 2, 3,\n",
    "            1, 4, 3, 2, 5, 6, 4, 2, 3, 1, 4, 3, 2, 5, 6, 4, 2, 3, 1, 5, 6, 4, 2, 3]\n",
    "physical_activity = [2, 4, 3, 1, 5, 6, 4, 2, 3, 1, 4, 3, 2, 5, 6, 4, 2, 3, 1, 4, 3, 2, 5, 6,\n",
    "                     4, 2, 3, 1, 4, 3, 2, 5, 6, 4, 2, 3, 1, 4, 3, 2, 5, 6, 4, 2, 3, 1, 4, 3, 2,4]\n",
    "\n",
    "df3 = pd.DataFrame({'tv_hours' : [3, 2, 4, 5, 2, 3, 1, 4, 5, 2, 3, 1, 4, 3, 2, 5, 6, 4, 2, 3, 1, 5, 6, 4, 2, 3,\n",
    "                        1, 4, 3, 2, 5, 6, 4, 2, 3, 1, 4, 3, 2, 5, 6, 4, 2, 3, 1, 5, 6, 4, 2, 3],\n",
    "                    'physical_activity' : [2, 4, 3, 1, 5, 6, 4, 2, 3, 1, 4, 3, 2, 5, 6, 4, 2, 3, 1, 4, 3, 2, 5, 6,\n",
    "                       4, 2, 3, 1, 4, 3, 2, 5, 6, 4, 2, 3, 1, 4, 3, 2, 5, 6, 4, 2, 3, 1, 4, 3, 2,4]\n",
    "})\n",
    "\n",
    "\n",
    "\n",
    "p_correlation = df3.corr(method = 'pearson')\n",
    "print(\"Pearson_Correlation: \")\n",
    "print(p_correlation)"
   ]
  },
  {
   "cell_type": "code",
   "execution_count": 13,
   "id": "8aebe397-dd7e-4e7f-8e6f-d3831cfdcf9f",
   "metadata": {},
   "outputs": [
    {
     "data": {
      "text/html": [
       "<div>\n",
       "<style scoped>\n",
       "    .dataframe tbody tr th:only-of-type {\n",
       "        vertical-align: middle;\n",
       "    }\n",
       "\n",
       "    .dataframe tbody tr th {\n",
       "        vertical-align: top;\n",
       "    }\n",
       "\n",
       "    .dataframe thead th {\n",
       "        text-align: right;\n",
       "    }\n",
       "</style>\n",
       "<table border=\"1\" class=\"dataframe\">\n",
       "  <thead>\n",
       "    <tr style=\"text-align: right;\">\n",
       "      <th></th>\n",
       "      <th>Age</th>\n",
       "      <th>SoftdrinkPreference</th>\n",
       "    </tr>\n",
       "  </thead>\n",
       "  <tbody>\n",
       "    <tr>\n",
       "      <th>Age</th>\n",
       "      <td>1.000000</td>\n",
       "      <td>0.769175</td>\n",
       "    </tr>\n",
       "    <tr>\n",
       "      <th>SoftdrinkPreference</th>\n",
       "      <td>0.769175</td>\n",
       "      <td>1.000000</td>\n",
       "    </tr>\n",
       "  </tbody>\n",
       "</table>\n",
       "</div>"
      ],
      "text/plain": [
       "                          Age  SoftdrinkPreference\n",
       "Age                  1.000000             0.769175\n",
       "SoftdrinkPreference  0.769175             1.000000"
      ]
     },
     "execution_count": 13,
     "metadata": {},
     "output_type": "execute_result"
    }
   ],
   "source": [
    "'''Q5.A survey was conducted to examine the relationship between age and preference for a particular brand of soft drink. The survey results are shown below:\n",
    "\n",
    "Age (Years)     Soft drink Preference\n",
    "25                Coke\n",
    "42                Pepsi\n",
    "37                Mountain dew\n",
    "19                Coke\n",
    "31                Pepsi\n",
    "28                Coke\n",
    "'''\n",
    "\n",
    "import pandas as pd\n",
    "from sklearn.preprocessing import LabelEncoder\n",
    "\n",
    "Age = [25,42,37,19,31,28]\n",
    "SoftdrinkPreference = ['Coke','Pepsi','Mountain dew','Coke','Pepsi','Coke']\n",
    "df4 = pd.DataFrame({'Age' : [25,42,37,19,31,28],\n",
    "                   'SoftdrinkPreference': ['Coke','Pepsi','Mountain dew','Coke','Pepsi','Coke']})\n",
    "encoder =  LabelEncoder()\n",
    "df4['SoftdrinkPreference']= encoder.fit_transform(df4['SoftdrinkPreference'])\n",
    "\n",
    "df4.corr()\n"
   ]
  },
  {
   "cell_type": "code",
   "execution_count": 17,
   "id": "15626e7b-ae28-42d3-ae14-4fc0ebdac1b7",
   "metadata": {},
   "outputs": [
    {
     "name": "stdout",
     "output_type": "stream",
     "text": [
      "Pearson_Correlation: \n",
      "                sales_calls  sales_per_week\n",
      "sales_calls        1.000000        0.972179\n",
      "sales_per_week     0.972179        1.000000\n"
     ]
    }
   ],
   "source": [
    "'''Q6. A company is interested in examining the relationship between the number of sales calls made per day and the number of sales made per week. The company collected \n",
    "data on both variables from a sample of 30 sales representatives. Calculate the Pearson correlation coefficient between these two variables.'''\n",
    "import pandas as pd\n",
    "sales_calls = [20, 15, 18, 12, 25, 22, 16, 19, 23, 17, 14, 21, 24, 16, 18, 13, 26, 20, 19, 17, 15, 21, 23, 14, 16, 18, 25, 22, 19, 20]\n",
    "sales_per_week = [8, 6, 7, 5, 9, 8, 6, 7, 9, 6, 5, 8, 9, 6, 7, 5, 9, 8, 7, 6, 6, 8, 9, 5, 6, 7, 9, 8, 7, 8]\n",
    "\n",
    "df5 = pd.DataFrame({'sales_calls' : [20, 15, 18, 12, 25, 22, 16, 19, 23, 17, 14, 21, 24, 16, 18, 13, 26, 20, 19, 17, 15, 21, 23, 14, 16, 18, 25, 22, 19, 20],\n",
    "                    'sales_per_week' : [8, 6, 7, 5, 9, 8, 6, 7, 9, 6, 5, 8, 9, 6, 7, 5, 9, 8, 7, 6, 6, 8, 9, 5, 6, 7, 9, 8,7,8]})\n",
    "\n",
    "P_correlation = df5.corr(method = 'pearson')\n",
    "print(\"Pearson_Correlation: \")\n",
    "print(P_correlation)\n"
   ]
  },
  {
   "cell_type": "code",
   "execution_count": null,
   "id": "9314b5d2-a026-4ced-8a13-4d6ded61a91f",
   "metadata": {},
   "outputs": [],
   "source": []
  }
 ],
 "metadata": {
  "kernelspec": {
   "display_name": "Python 3 (ipykernel)",
   "language": "python",
   "name": "python3"
  },
  "language_info": {
   "codemirror_mode": {
    "name": "ipython",
    "version": 3
   },
   "file_extension": ".py",
   "mimetype": "text/x-python",
   "name": "python",
   "nbconvert_exporter": "python",
   "pygments_lexer": "ipython3",
   "version": "3.10.8"
  }
 },
 "nbformat": 4,
 "nbformat_minor": 5
}
