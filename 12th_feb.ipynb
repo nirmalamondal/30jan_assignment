{
 "cells": [
  {
   "cell_type": "code",
   "execution_count": 4,
   "id": "fed94c06-676f-4036-8f1e-e25318ca23db",
   "metadata": {},
   "outputs": [],
   "source": [
    "# Q1. What is an Exception in python? Write the difference between Exceptions and syntax errors.\n",
    "\n",
    "\n",
    "'''Exception is some undesirable condition that is  occurs at the time of execution of a code & disrupted the natural control flow of code.\n",
    "Exceptions are occur during runtime as well as compile time but Syntax error occur during compile time, Exceptions can be handel with exception \n",
    "handeling but syntax error can not be handled.'''\n",
    "\n",
    "\n",
    "#exception  example :\n",
    "import logging\n",
    "logging.basicConfig(filename = \"error1.log\",level= logging.ERROR)\n",
    "try:\n",
    "    a = 56 + \"Nirmala\"\n",
    "    b = 10+10\n",
    "    logging.info(b)\n",
    "except TypeError as e:\n",
    "    logging.error(\"This is a block of code that is handle {}\".format(e))  \n",
    "    \n",
    "'''here  in variable a we are trying to concatinate 56 with a string without typecasting it so this is an exception. '''  \n",
    "    \n",
    "# Syntax error\n",
    "val = 0\n",
    "if val == 0\n",
    "    print(val)\n",
    "\n",
    "'''here : is missing after if condition, this is a syntax error'''    "
   ]
  },
  {
   "cell_type": "code",
   "execution_count": 2,
   "id": "b8e9e05d-ed65-4c2b-b869-a9b8b66c7794",
   "metadata": {},
   "outputs": [],
   "source": [
    "#Q2. What happens when an exception is not handled? Explain with an example.\n",
    "\n",
    "\n",
    "\"\"\"If an exception is not handled then it will through error and the whole program will be crash.\"\"\"\n",
    "import logging\n",
    "logging.basicConfig(filename = \"error1.log\",level= logging.ERROR)\n",
    "try:\n",
    "    a = 18/0\n",
    "except ZeroDivisionError as e:\n",
    "    logging.error(\"This is a block of code that is handle {}\".format(e))"
   ]
  },
  {
   "cell_type": "code",
   "execution_count": 7,
   "id": "f264cffa-e7c9-4098-8f12-c9b7f15b083a",
   "metadata": {},
   "outputs": [],
   "source": [
    "#Q3. Which Python statements are used to catch and handle exceptions? Explain with an example \n",
    "\n",
    "'''try is used to catch the exception and except is used to handle exception.'''\n",
    "\n",
    "import logging\n",
    "logging.basicConfig(filename = \"error1.log\",level= logging.ERROR)\n",
    "try:\n",
    "    l = [4,5,0,6,3,2]\n",
    "    logging.info(\"the value of l[7] is {} \".format(l[7]))\n",
    "except IndexError as e:\n",
    "    logging.error(\"This is a block of code that is handle {}\".format(e))"
   ]
  },
  {
   "cell_type": "code",
   "execution_count": 8,
   "id": "7eaac09d-414d-49af-91ab-232f8f8a941d",
   "metadata": {},
   "outputs": [
    {
     "name": "stdin",
     "output_type": "stream",
     "text": [
      "enter your marks 340\n"
     ]
    },
    {
     "data": {
      "text/plain": [
       "' \"raise\" is used to  raise a manual exception in a code . In the above example assume full marks is 100 and there is no negative marking\\nthen we can see marks can\\'t be greaterthan 100 . To solve this kind of exception we need to handle it manually. So we handle it using raise keyword\\n& whenever marks greater than 100 we through a exception and other side when marks is less than 0 then also we through a exception and handle it. '"
      ]
     },
     "execution_count": 8,
     "metadata": {},
     "output_type": "execute_result"
    }
   ],
   "source": [
    "#Q4. Explain each with an example:\n",
    "#a.try and else\n",
    "#b.finally\n",
    "#c.raise\n",
    "\n",
    "import logging\n",
    "logging.basicConfig(filename = \"error2.log\",level= logging.INFO)\n",
    "try :\n",
    "    f = open(\"test.txt\",'w')\n",
    "    f.write(\"hello\")\n",
    "except FileNotFound as e:\n",
    "    logging.error(\"This is handling {}\".format(e))\n",
    "        \n",
    "else:\n",
    "    f.close()\n",
    "    logging.info(\"Execute try block successfully\")\n",
    "    \n",
    "'''when try block execute successfully then else block will be executed  and if try block is not executed then it will go in except block but else block\n",
    "will not be executed.'''\n",
    "try :\n",
    "    with open(\"test.txt\",'r') as f:\n",
    "        logging.info(f.read()) \n",
    "except FileNotFound as e:\n",
    "    logging.error(\"This is handling {}\".format(e))        \n",
    "else:\n",
    "    f.close()\n",
    "    logging.info(\"Execute try block successfully\")\n",
    "finally:\n",
    "    logging.info(\"Always Execute \") \n",
    "    \n",
    "''' finally block will be always executed either try block executed or not '''     \n",
    "\n",
    "class valid_marks(Exception):\n",
    "    \n",
    "    def __init__(self , msg) : \n",
    "        self.msg = msg\n",
    "        \n",
    "def validateexam(age) : \n",
    "    if marks > 100 :\n",
    "        raise valid_marks(\"marks can't be greater than 100\" )\n",
    "    elif marks < 0 : \n",
    "        raise valid_marks(\"marks can't be negative here\" )\n",
    "    else :\n",
    "        logging.info(\"your marks is {}\".format(marks))\n",
    "       \n",
    "        \n",
    "try :\n",
    "    marks = int(input(\"enter your marks\" ))\n",
    "    validateexam(marks)\n",
    "except valid_marks as e :\n",
    "    logging.error(\"This is handling {}\".format(e))        \n",
    "    \n",
    "''' \"raise\" is used to  raise a manual exception in a code . In the above example assume full marks is 100 and there is no negative marking\n",
    "then we can see marks can't be greaterthan 100 . To solve this kind of exception we need to handle it manually. So we handle it using raise keyword\n",
    "& whenever marks greater than 100 we through a exception and other side when marks is less than 0 then also we through a exception and handle it. '''    "
   ]
  },
  {
   "cell_type": "code",
   "execution_count": 3,
   "id": "b6cc7a0b-12e5-428e-928c-9d863bf71e4e",
   "metadata": {},
   "outputs": [
    {
     "name": "stdin",
     "output_type": "stream",
     "text": [
      "enter the target -50\n"
     ]
    }
   ],
   "source": [
    "# Q5. What are Custom Exception in python? Why do we need Custom Exception?Explain with an example. \n",
    "\n",
    "'''Custom Exception is an exaception that is defined by user.Many times happen that some exceptions are totally depends on user code which can not be \n",
    "possible to be defined in Exeception class , Like age can not be negative in that case is a custom exception.'''\n",
    "\n",
    "''' Custom Exception Handling is used to handle custom exceptions means those exception that is can not be handle by Exception class  and need to \n",
    "defined by user to handle those exception'''\n",
    "#example:\n",
    "\n",
    "import logging\n",
    "logging.basicConfig(filename = \"error3.log\",level= logging.INFO)\n",
    "\n",
    "class valid_target(Exception):\n",
    "    \n",
    "    def __init__(self , msg) : \n",
    "        self.msg = msg\n",
    "        \n",
    "\n",
    "def validatetarget(target) : \n",
    "    if target < 0 :\n",
    "        raise valid_target(\"target can not be negative \" )\n",
    "    else :\n",
    "        logging.info(\"Opponent have to chase {} to win the match\".format(target) )\n",
    "\n",
    "try :\n",
    "    target = int(input(\"enter the target\" ))\n",
    "    validatetarget(target)\n",
    "except valid_target as e :\n",
    "    logging.info(\"This block is handling {}\".format(e))        \n",
    "        "
   ]
  },
  {
   "cell_type": "code",
   "execution_count": 1,
   "id": "ec370b36-3e23-420a-ba46-2fe00b970324",
   "metadata": {},
   "outputs": [
    {
     "name": "stdin",
     "output_type": "stream",
     "text": [
      "enter your marks -78\n"
     ]
    }
   ],
   "source": [
    "''' Q6. Create a custom exception class. Use this class to handel an exception'''\n",
    "\n",
    "\n",
    "import logging\n",
    "logging.basicConfig(filename = \"error4.log\",level= logging.INFO)\n",
    "\n",
    "class valid_marks(Exception):\n",
    "    \n",
    "    def __init__(self , msg) : \n",
    "        self.msg = msg\n",
    "        \n",
    "def validateexam(age) : \n",
    "    if marks > 100 :\n",
    "        raise valid_marks(\"marks can't be greater than 100\" )\n",
    "    elif marks < 0 : \n",
    "        raise valid_marks(\"marks can't be negative here\" )\n",
    "    else :\n",
    "        logging.info(\"your marks is {}\".format(marks))\n",
    "       \n",
    "        \n",
    "try :\n",
    "    marks = int(input(\"enter your marks\" ))\n",
    "    validateexam(marks)\n",
    "except valid_marks as e :\n",
    "    logging.error(\"This is handling {}\".format(e))       \n"
   ]
  },
  {
   "cell_type": "code",
   "execution_count": null,
   "id": "76180915-add3-4328-9ca0-ab073580cd08",
   "metadata": {},
   "outputs": [],
   "source": []
  }
 ],
 "metadata": {
  "kernelspec": {
   "display_name": "Python 3 (ipykernel)",
   "language": "python",
   "name": "python3"
  },
  "language_info": {
   "codemirror_mode": {
    "name": "ipython",
    "version": 3
   },
   "file_extension": ".py",
   "mimetype": "text/x-python",
   "name": "python",
   "nbconvert_exporter": "python",
   "pygments_lexer": "ipython3",
   "version": "3.10.8"
  }
 },
 "nbformat": 4,
 "nbformat_minor": 5
}
