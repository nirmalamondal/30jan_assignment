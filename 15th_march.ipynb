{
 "cells": [
  {
   "cell_type": "code",
   "execution_count": null,
   "id": "d7f3319d-fb5a-4641-a4fd-441cc13e020b",
   "metadata": {},
   "outputs": [],
   "source": [
    "''' Q1. Explain the following with an example. '''\n",
    "1.Artificial Intelligence: is a concept or field to create a intelligence machine that can mimic a human being by learing & prooblem\n",
    "solving. It is a large field undrer this ML & DL both are including. By providing various algorithms in a machine , it help to take decision\n",
    "according to the situation like a human being.\n",
    "\n",
    "2.Machine learing: is a subset of Artificial Intelligence. It is a domain where the machines are predict the result by developing different\n",
    "model. In some cases models are trained then it tries to find the output of required intput & in some cases it may used in the forecasting\n",
    "or grouping data according to need .\n",
    "\n",
    "3. Deep Learing: is a subset of Machine Learing. In deep learing machines are tried to learn & extract new features from data.It may \n",
    "possible that  ML predict the wrong & we need to fixed that problem manually but incase of DL it is fixed automatically no need to fixed it \n",
    "manually.\n",
    " "
   ]
  },
  {
   "cell_type": "code",
   "execution_count": null,
   "id": "5f4ca69e-d48e-4acc-9fcb-28ef337693c4",
   "metadata": {},
   "outputs": [],
   "source": [
    "''' Q2. What is supervised learning? List some examples of supervised learning. '''\n",
    "\n",
    "Supervised Learing: Supervised learing is a types of ML. In this category developer knows the target variable . Models are trained by some\n",
    "dataset holding various features & then tries to predict the output based on that dataset. Here the output is a dependent variable, \n",
    "depend on the indipendent features.\n",
    "Example : 1. A given picture is of a cat or dog\n",
    "          2. Is the suspect a covid positive or not etc.\n"
   ]
  },
  {
   "cell_type": "code",
   "execution_count": null,
   "id": "94d5ee0d-f8af-41d3-aa7e-3d3a8961ca02",
   "metadata": {},
   "outputs": [],
   "source": [
    "''' Q3.What is unsupervised learning? List some examples of unsupervised learning. '''\n",
    "\n",
    "Unsupervised Learning: is a types of ML. In this category developer do not know the target variable.In unsupervised learning no training\n",
    "will be given to the machine. It is used to group  similar type or similar pattern of data. \n",
    "Example: 1.categorize species of plants\n",
    "         2.categorize species of animals\n",
    "         3.categorize people basis of some activity etc."
   ]
  },
  {
   "cell_type": "code",
   "execution_count": null,
   "id": "c7883867-8ec1-4b67-96c3-f323c176e9cf",
   "metadata": {},
   "outputs": [],
   "source": [
    "''' Q4. What is the difference between AI, ML, DL, and DS? '''\n",
    "AI is a branch of computer science. It is used to make smart machines capable of performing tasks that need human intelligence. AI enables\n",
    "machine to learn from data, think & take decision. \n",
    "Where as ML is a subset of AI that develops model that predict the output.\n",
    "And DL is subset of ML that learn from the enviroment & unhide new features from data set then take decision like a human being.\n",
    "And lastly DS is containing the field of this three where a data scienctist work on different field of each of the category."
   ]
  },
  {
   "cell_type": "code",
   "execution_count": null,
   "id": "fce6c33e-3a74-44af-b290-3307b3b493df",
   "metadata": {},
   "outputs": [],
   "source": [
    "''' Q5. What are the main differences between supervised, unsupervised, and semi-supervised learning? '''\n",
    "Supervised learing is a types of ML. In this category developer knows the target variable . Models are trained by some\n",
    "dataset holding various features & then tries to predict the output based on that dataset. Here the output is a dependent variable, \n",
    "depend on the indipendent features.\n",
    "But in Unsupervised Learning developer do not know the target variable & no training will be given to the machine. It is used to group \n",
    "similar type or similar pattern of data. \n",
    "And in Semi Supervised Learning at first some Supervised learing is done on label data then unupervised learing is done on the basis of \n",
    "unlabel data."
   ]
  },
  {
   "cell_type": "code",
   "execution_count": null,
   "id": "60e294ac-dfb9-4bf1-83af-a9f7a3bf4fd6",
   "metadata": {},
   "outputs": [],
   "source": [
    "''' Q6. What is train, test and validation split? Explain the importance of each them. '''\n",
    "Training is the process of train a model by providing dataset, validation is the process of hyper tuning meansimprove the accuracy of the\n",
    "model and test is check the model performance after completition of training."
   ]
  },
  {
   "cell_type": "code",
   "execution_count": null,
   "id": "cf42910c-b1be-475a-890f-7e6140efadde",
   "metadata": {},
   "outputs": [],
   "source": [
    "''' Q7. How can unsupervised learning be used in anomaly detection? '''\n",
    "\n",
    "Anomaly detection is a process of identifying the rare data,observations or events that are totally different from the other data. It is \n",
    "also known as outlier.Now we know that unsupervised learning group the similar kind of data & make category. So differently behavioural \n",
    "data will be in same group & the amount of those data points will be very less so we can eleminate them easily. And in other hand always\n",
    "getting label data is not possible so unsupervised learning perform on unlabel data that is another importance.\n"
   ]
  },
  {
   "cell_type": "code",
   "execution_count": null,
   "id": "130cb226-07a3-49e7-ae7a-f54330b4a75e",
   "metadata": {},
   "outputs": [],
   "source": [
    "''' Q8. List down some commonly used supervised learning algorithms and unsupervised learning algorithms. '''\n",
    "\n",
    "1.supervised learning algorithms : a. Classification\n",
    "                                   b. Regression\n",
    "                                   c. Decision Tree\n",
    "                                   d. Random forest  \n",
    "            \n",
    "2.unsupervised learning algorithms : a. Clustering\n",
    "                                     b. Assocition analysis\n",
    "                                     c. Hidden markev model"
   ]
  }
 ],
 "metadata": {
  "kernelspec": {
   "display_name": "Python 3 (ipykernel)",
   "language": "python",
   "name": "python3"
  },
  "language_info": {
   "codemirror_mode": {
    "name": "ipython",
    "version": 3
   },
   "file_extension": ".py",
   "mimetype": "text/x-python",
   "name": "python",
   "nbconvert_exporter": "python",
   "pygments_lexer": "ipython3",
   "version": "3.10.8"
  }
 },
 "nbformat": 4,
 "nbformat_minor": 5
}
