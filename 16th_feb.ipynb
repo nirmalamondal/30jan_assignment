{
 "cells": [
  {
   "cell_type": "code",
   "execution_count": null,
   "id": "766152ce-aca9-4039-9d1c-ba8a22373bf5",
   "metadata": {},
   "outputs": [],
   "source": [
    "''' Q1. What is a database? Differentiate between SQL and NoSQL databases.  '''\n",
    "\n",
    "Database is an organized collection of data and information so that it can be easily accessed & managed.\n",
    "\n",
    "SQL have fixed or static or predefined schema and NOSQl have dynamic schema, SQL are not suited for hierarchical data storage and NOSQL are best \n",
    "suited for hierarchical data storage , SQL are best suited for complex queries and NOSQL are not so good for complex queries, SQL vertically Scalable\n",
    "and NOSQL horizontally scalable, example of SQL database - MSSQL, Oracle, MySQL etc and example of NOSQL database - MongoDB, Cassendra etc."
   ]
  },
  {
   "cell_type": "code",
   "execution_count": null,
   "id": "fd3ecbbc-1490-41e3-8c22-fed505ca029a",
   "metadata": {},
   "outputs": [],
   "source": [
    "''' Q2. What is DDL? Explain why CREATE, DROP, ALTER, and TRUNCATE are used with an example. '''  \n",
    "\n",
    "DDL stands for Data Definition Language. It is used to create and modify database schema and its object.\n",
    "CREATE - Used to create a database or tabel or any kind of database object.\n",
    "DROP - Used to delete/remove the database objects from the database.\n",
    "ALTER - Used to change or modify the existing structure of the database and it also changes the schema of database objects.\n",
    "TRUNCATE - Used to delete all the records from the table. It actually removes the allocated space.\n",
    "\n",
    "CREATE DATABASE student; # Create database name student\n",
    "CREATE TABLE student.student_info   # create table within the database and adding columns\n",
    "(  \n",
    "name VARCHAR(50), roll INT, dept VARCHAR(10)\n",
    ") ; \n",
    "INSERT INTO student.student_info VALUES('Nirmala',18,'CSE')  ;  # insert data into table\n",
    "DROP TABLE student_info;     # drop the table so the whole table will bw lost\n",
    "CREATE DATABASE student1;    # creating another databse to perform further operation\n",
    "CREATE TABLE student1.student_info   # create table within the database and adding columns\n",
    "(  \n",
    "name VARCHAR(50), roll INT, dept VARCHAR(10)\n",
    ") ; \n",
    "ALTER Table student_info  DROP dept; #using alter to drop the column dept from the second table\n",
    "DESC student1.student_info;\n",
    "INSERT INTO student1.student_info VALUES('Nirmala',18)  ; # adding data\n",
    "INSERT INTO student1.student_info VALUES('Riya',4)  ;   #adding data\n",
    "SELECT * FROM student1.student_info;    # See the data of student_info table \n",
    "TRUNCATE TABLE student1.student_info;   #truncate used to delete all the record from that table\n",
    "SELECT * FROM student1.student_info;    # After performing trancate operation we can see the records are deleted but the columns are there."
   ]
  },
  {
   "cell_type": "code",
   "execution_count": null,
   "id": "45de8816-af70-4eb6-a3fa-88dbb08a8792",
   "metadata": {},
   "outputs": [],
   "source": [
    "'''  Q3. What is DML? Explain INSERT, UPDATE, and DELETE with an example. '''\n",
    "\n",
    "DML stands for data manipulation language.DML used to change the data present in the SQL database. We can access, store, modify, update and \n",
    "delete the existing records from the database using DML commands.\n",
    "\n",
    "CREATE DATABASE if not exists student3; # Create database name student\n",
    "CREATE TABLE if not exists student3.student_info   # create table within the database and adding columns\n",
    "(  \n",
    "name VARCHAR(50), roll INT, dept VARCHAR(10)\n",
    ") ; \n",
    "INSERT INTO student3.student_info VALUES('Nirmala',18,'CSE')  ; # insert data into student_info table \n",
    "INSERT INTO student3.student_info VALUES('Riya',66,'ME')  ;\n",
    "INSERT INTO student3.student_info VALUES('Priya',34,'EE')  ;\n",
    "UPDATE student_info SET roll = 20 WHERE name = 'Riya' ;  # Update the data of dept column from 'ME' to 'CSE' of student named 'Riya'\n",
    "DELETE FROM student_info WHERE dept = 'EE';    # delete the row from the table where dept = 'EE' \n",
    "SELECT * from student3.student_info;"
   ]
  },
  {
   "cell_type": "code",
   "execution_count": null,
   "id": "7c407ea4-3fce-47d8-9a24-a97cf022ebec",
   "metadata": {},
   "outputs": [],
   "source": [
    "''' Q4. What is DQL? Explain SELECT with an example.'''\n",
    "DQL stands for data query language which is used to fetch the data from the database.\n",
    "\n",
    "CREATE DATABASE if not exists student3; # Create database name student\n",
    "CREATE TABLE if not exists student3.student_info   # create table within the database and adding columns\n",
    "(  \n",
    "name VARCHAR(50), roll INT, dept VARCHAR(10)\n",
    ") ; \n",
    "INSERT INTO student3.student_info VALUES('Nirmala',18,'CSE')  ; # insert data into student_info table \n",
    "INSERT INTO student3.student_info VALUES('Riya',66,'ME')  ;\n",
    "INSERT INTO student3.student_info VALUES('Priya',34,'EE')  ;\n",
    "SELECT * from student3.student_info;   # This command used to fetch all the data from database \n",
    "SELECT name,dept from student3.student_info; # Here we are selecting columns name  that we want to fetch"
   ]
  },
  {
   "cell_type": "code",
   "execution_count": null,
   "id": "83bb9cf2-bbab-471b-8c68-4b20787c0e36",
   "metadata": {},
   "outputs": [],
   "source": [
    "''' Q5. Explain Primary Key and Foreign Key.'''\n",
    "\n",
    "primary key is an not null key that uniquely identifies every record in a table . The primary key column can not store duplicate values.\n",
    "example - In student table the student_id is primary key in that table through which we can identify each student uniquely.\n",
    "\n",
    "Other side  Foreign Key is used to build relation betwen tables means it is a common attritube that is present in both table which are \n",
    "building relation using it.The foreign key of a table is primary key of another table.\n",
    "example - Employee table have primary key Emp_id which can be used as foreign key of Employee_increment_list table where we can identify \n",
    "those employee whose salary is incremented.\n"
   ]
  },
  {
   "cell_type": "code",
   "execution_count": null,
   "id": "1c2211ff-7b77-409f-be06-17484785bff0",
   "metadata": {},
   "outputs": [],
   "source": [
    "''' Q6. Write a python code to connect MySQL to python. Explain the cursor() and execute() method. '''\n",
    "import mysql.connector\n",
    "mydb = mysql.connector.connect(\n",
    "  host=\"localhost\",\n",
    "  user=\"abc\",\n",
    "  password=\"password\"\n",
    ")\n",
    "mycursor = mydb.cursor()\n",
    "\n",
    "mycursor.execute(\"CREATE DATABASE EMPLOYEE\")\n",
    "for i in mycursor.fetchall():\n",
    "    print(i)\n",
    "\n",
    "mydb.close()\n",
    "\n",
    "\n",
    "cursor() method is used to create an object that helps to make the connection.\n",
    "This method take a SQL query as a parameter and executes the given query."
   ]
  },
  {
   "cell_type": "code",
   "execution_count": null,
   "id": "84be67a6-1ebb-4938-9b5d-261c742ab85b",
   "metadata": {},
   "outputs": [],
   "source": [
    "''' Q7. Give the order of execution of SQL clauses in an SQL query.'''\n",
    "\n",
    "1.  FROM\t-Tables are joined to get the base data.\n",
    "2.\tWHERE\t-The base data is filtered.\n",
    "3.\tGROUP BY -The filtered base data is grouped.\n",
    "4.\tHAVING\t-The grouped base data is filtered.\n",
    "5.\tSELECT\t-The final data is returned.\n",
    "6.\tORDER BY -The final data is sorted.\n",
    "7.\tLIMIT\t-The returned data is limited to row count."
   ]
  }
 ],
 "metadata": {
  "kernelspec": {
   "display_name": "Python 3 (ipykernel)",
   "language": "python",
   "name": "python3"
  },
  "language_info": {
   "codemirror_mode": {
    "name": "ipython",
    "version": 3
   },
   "file_extension": ".py",
   "mimetype": "text/x-python",
   "name": "python",
   "nbconvert_exporter": "python",
   "pygments_lexer": "ipython3",
   "version": "3.10.8"
  }
 },
 "nbformat": 4,
 "nbformat_minor": 5
}
