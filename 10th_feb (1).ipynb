{
 "cells": [
  {
   "cell_type": "code",
   "execution_count": null,
   "id": "894499fa-8f5f-49ca-92c8-df6534772e93",
   "metadata": {},
   "outputs": [],
   "source": [
    "Q1. Which function is used to open a file? What are the different modes of opening a file? Explain each mode\n",
    "of file opening.\n",
    "--> open function is used to open a file.\n",
    "Different modes of opening a file are 'r','w' and 'a' .\n",
    "'r'- open an existing file for read operation\n",
    "'w' - open an exsiting file or create new file for write operation if the file does not exsits, if the file contains some data then it will be overridden by the new data\n",
    "'a' - open an existing  file to append new data on existing data"
   ]
  },
  {
   "cell_type": "code",
   "execution_count": null,
   "id": "e5a3e35f-7e49-42e6-9bf0-963df4a174ba",
   "metadata": {},
   "outputs": [],
   "source": [
    "Q2. Why close() function is used? Why is it important to close a file?\n",
    "--> close function is used to close that file. To free up the resources that were used in that file.If we don't close that file we can't use those resources again."
   ]
  },
  {
   "cell_type": "code",
   "execution_count": 3,
   "id": "d0cf4600-e347-48e3-bfeb-2e7c4592ed81",
   "metadata": {},
   "outputs": [
    {
     "data": {
      "text/plain": [
       "'I want to become a Data Scientist'"
      ]
     },
     "execution_count": 3,
     "metadata": {},
     "output_type": "execute_result"
    }
   ],
   "source": [
    "'''Q3. Write a python program to create a text file. Write ‘I want to become a Data Scientist’ in that file. Then\n",
    "close the file. Open this file and read the content of the file.'''\n",
    "f = open(\"test10.txt\",'w')\n",
    "f.write(\"I want to become a Data Scientist\")\n",
    "f.close()\n",
    "data = open(\"test10.txt\",'r')\n",
    "data.read()"
   ]
  },
  {
   "cell_type": "code",
   "execution_count": 19,
   "id": "8db00a6a-1a20-4fcb-a56a-b514d9ca17a1",
   "metadata": {},
   "outputs": [
    {
     "name": "stdout",
     "output_type": "stream",
     "text": [
      "I want to become a Data Scientist.\n",
      " I enrolled in DS course.\n",
      " I enjoy it.\n",
      "\n",
      "I want to become a Data Scientist.\n",
      "\n",
      "['I want to become a Data Scientist.\\n', ' I enrolled in DS course.\\n', ' I enjoy it.\\n']\n"
     ]
    }
   ],
   "source": [
    "''' Q4. Explain the following with python code: read(), readline() and readlines().'''\n",
    "f = open(\"test8.txt\",'w')\n",
    "f.write(\"I want to become a Data Scientist.\\n I enrolled in DS course.\\n I enjoy it.\\n\")\n",
    "f.close()\n",
    "data = open(\"test8.txt\",'r')\n",
    "print(data.read())\n",
    "data.seek(0)\n",
    "print(data.readline())\n",
    "data.seek(0)\n",
    "print(data.readlines())\n",
    "    \n",
    "    \n",
    "''' read()  reads the whole data together & return it.readline() reads the data line by line  and returned them line by line and readlines() extract \n",
    "line by line and return each line with in a single list, here each line behave likes an element of that list.'''."
   ]
  },
  {
   "cell_type": "code",
   "execution_count": null,
   "id": "a55793a7-c0b2-4429-9bac-3b3b30fd5f68",
   "metadata": {},
   "outputs": [],
   "source": [
    " Q5. Explain why with statement is used with open(). What is the advantage of using with statement and\n",
    "open() together? \n",
    "\n",
    "--> using 'with' with the open() function done same thing means help to open a file. But the advanges is that whenever we use only open() we need to close  that file but with open()  automatically close that file. "
   ]
  },
  {
   "cell_type": "code",
   "execution_count": 23,
   "id": "3a706892-0eec-4626-a863-efebc3f7b6d0",
   "metadata": {},
   "outputs": [
    {
     "name": "stdout",
     "output_type": "stream",
     "text": [
      "I want to become a Data Scientist\n",
      "I want to become a Data Scientist\n",
      "I\n",
      "am\n",
      "engineer\n"
     ]
    },
    {
     "data": {
      "text/plain": [
       "' write() method return the data without providing any new line character but in writelines() method it add new line character & take input in a \\nlist '"
      ]
     },
     "execution_count": 23,
     "metadata": {},
     "output_type": "execute_result"
    }
   ],
   "source": [
    "''' Q6. Explain the write() and writelines() functions. Give a suitable example. '''\n",
    "f = open(\"example.txt\", \"w\")\n",
    "f.write(\"I want to become a Data Scientist\")\n",
    "f.close()\n",
    "f = open(\"example.txt\", \"r\")\n",
    "print(f.read())\n",
    "f.close()\n",
    "\n",
    "f = open(\"example.txt\", \"a\")\n",
    "f.writelines([\"\\nI\", \"\\nam\", \"\\nengineer\"])\n",
    "f.close()\n",
    "f = open(\"example.txt\", \"r\")\n",
    "print(f.read())\n",
    "f.close()\n",
    "''' write() method return the data without providing any new line character but in writelines() method it add new line character & take input in a \n",
    "list '''"
   ]
  },
  {
   "cell_type": "code",
   "execution_count": null,
   "id": "85249c44-092c-4259-ab2c-71df13a60c95",
   "metadata": {},
   "outputs": [],
   "source": []
  }
 ],
 "metadata": {
  "kernelspec": {
   "display_name": "Python 3 (ipykernel)",
   "language": "python",
   "name": "python3"
  },
  "language_info": {
   "codemirror_mode": {
    "name": "ipython",
    "version": 3
   },
   "file_extension": ".py",
   "mimetype": "text/x-python",
   "name": "python",
   "nbconvert_exporter": "python",
   "pygments_lexer": "ipython3",
   "version": "3.10.8"
  }
 },
 "nbformat": 4,
 "nbformat_minor": 5
}
