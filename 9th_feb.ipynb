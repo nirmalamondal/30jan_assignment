{
 "cells": [
  {
   "cell_type": "code",
   "execution_count": 4,
   "id": "82c15001-3a1f-4c70-86d6-c13a2c7520cc",
   "metadata": {},
   "outputs": [],
   "source": [
    "'''  Q1. Create a vehicle class with an init method having instance variables as name_of_vehicle, max_speed\n",
    "and average_of_vehicle. '''\n",
    "\n",
    "\n",
    "class vehicle:\n",
    "    def __init__(self,name_of_vehicle, max_speed,average_of_vehicle):\n",
    "        self.name_of_vehicle = name_of_vehicle\n",
    "        self.max_speed = max_speed\n",
    "        self.average_of_vehicle = average_of_vehicle\n",
    "    "
   ]
  },
  {
   "cell_type": "code",
   "execution_count": 5,
   "id": "0d21f523-c5cd-4159-8276-a5d0c5542504",
   "metadata": {},
   "outputs": [
    {
     "data": {
      "text/plain": [
       "('4-wheeler', 5)"
      ]
     },
     "execution_count": 5,
     "metadata": {},
     "output_type": "execute_result"
    }
   ],
   "source": [
    "''' Q2. Create a child class car from the vehicle class created in Que 1, which will inherit the vehicle class.\n",
    "Create a method named seating_capacity which takes capacity as an argument and returns the name of\n",
    "the vehicle and its seating capacity. '''\n",
    "class car(vehicle):\n",
    "    def seating_capacity(self,capacity):\n",
    "        self.capacity = capacity\n",
    "        return self.name_of_vehicle,self.capacity \n",
    "    \n",
    "child_obj = car('4-wheeler', '70kmph','55kmh')  \n",
    "child_obj.seating_capacity(5)"
   ]
  },
  {
   "cell_type": "code",
   "execution_count": 7,
   "id": "a2ce0890-f1e2-48f7-a9cc-e1a3707494e2",
   "metadata": {},
   "outputs": [
    {
     "name": "stdout",
     "output_type": "stream",
     "text": [
      "I am class Test2\n",
      "I am class Test1\n"
     ]
    }
   ],
   "source": [
    "''' Q3. What is multiple inheritance? Write a python code to demonstrate multiple inheritance. '''\n",
    "#When a class inherit the properties of more than one classes then it is known as multiple inheritance.\n",
    "\n",
    "class Test1:\n",
    "    def test1(self):\n",
    "        print(\"I am class Test1\")\n",
    "        \n",
    "class Test2:\n",
    "    def test2(self):\n",
    "        print(\"I am class Test2\")  \n",
    "        \n",
    "class Test3(Test1,Test2):\n",
    "    def test3(self):\n",
    "        pass\n",
    "    \n",
    "obj = Test3()\n",
    "obj.test2()\n",
    "obj.test1()"
   ]
  },
  {
   "cell_type": "code",
   "execution_count": 18,
   "id": "f075d9cb-bf0a-4539-a5ff-1b67fb3ab185",
   "metadata": {},
   "outputs": [
    {
     "name": "stdout",
     "output_type": "stream",
     "text": [
      "50000\n",
      "65000\n"
     ]
    }
   ],
   "source": [
    "''' Q4. What are getter and setter in python? Create a class and create a getter and a setter method in this\n",
    "class. '''\n",
    "\n",
    "#In python getter is method that is used to get the private properties value and setter is a method that is used to set the values of\n",
    "#private attributes.\n",
    "\n",
    "class Salary:\n",
    "    def __init__(self,salary):\n",
    "        self._salary = salary\n",
    "    def get_method(self):\n",
    "        return self._salary\n",
    "    def set_method(self,new_salary):\n",
    "        self._salary  = new_salary\n",
    "      \n",
    "    \n",
    "obj1 = Salary(50000)\n",
    "print(obj1.get_method())\n",
    "obj1.set_method(65000)\n",
    "print(obj1.get_method())\n",
    "\n",
    "        \n",
    "        "
   ]
  },
  {
   "cell_type": "code",
   "execution_count": 20,
   "id": "10e62e0e-2456-408a-9aef-4537a1285e23",
   "metadata": {},
   "outputs": [
    {
     "name": "stdout",
     "output_type": "stream",
     "text": [
      "CSE\n",
      "ME\n"
     ]
    }
   ],
   "source": [
    "''' Q5.What is method overriding in python? Write a python code to demonstrate method overriding. '''\n",
    "#When a child class is allowed to implement a  method that is already defined in super class of that child class & both have the same method\n",
    "#name, same number of variables, same type of variables & same return type then it is called that child class override the method.\n",
    "\n",
    "class Parent:\n",
    "    def Dept(self):\n",
    "        return \"CSE\"\n",
    "    \n",
    "class Child:\n",
    "    def Dept(self):\n",
    "        return \"ME\"\n",
    "    \n",
    "parent = Parent()\n",
    "child  = Child()\n",
    "print(parent.Dept())\n",
    "print(child.Dept())"
   ]
  },
  {
   "cell_type": "code",
   "execution_count": null,
   "id": "ed26ea90-1dbe-4144-b400-13b51f65df2e",
   "metadata": {},
   "outputs": [],
   "source": []
  }
 ],
 "metadata": {
  "kernelspec": {
   "display_name": "Python 3 (ipykernel)",
   "language": "python",
   "name": "python3"
  },
  "language_info": {
   "codemirror_mode": {
    "name": "ipython",
    "version": 3
   },
   "file_extension": ".py",
   "mimetype": "text/x-python",
   "name": "python",
   "nbconvert_exporter": "python",
   "pygments_lexer": "ipython3",
   "version": "3.10.8"
  }
 },
 "nbformat": 4,
 "nbformat_minor": 5
}
