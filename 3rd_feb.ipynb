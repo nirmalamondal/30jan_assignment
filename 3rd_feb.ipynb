{
 "cells": [
  {
   "cell_type": "code",
   "execution_count": 1,
   "id": "4b8cf21b-9522-4427-a2a3-b470617d85bb",
   "metadata": {},
   "outputs": [
    {
     "name": "stdout",
     "output_type": "stream",
     "text": [
      "[1, 3, 5, 7, 9, 11, 13, 15, 17, 19, 21, 23, 25]\n"
     ]
    }
   ],
   "source": [
    "''' Which keyword is used to create a function? Create a function to return a list of odd numbers in the\n",
    "range of 1 to 25. '''\n",
    "# def keyword is used to create a function.\n",
    "\n",
    "def odd_list():\n",
    "    l = []\n",
    "    for i in range(1,26,2):\n",
    "        l.append(i)\n",
    "    return l    \n",
    "print(odd_list())"
   ]
  },
  {
   "cell_type": "code",
   "execution_count": 2,
   "id": "2f538d88-3d0c-479d-b5c9-55ad03264385",
   "metadata": {},
   "outputs": [
    {
     "name": "stdout",
     "output_type": "stream",
     "text": [
      "Use of  *args\n",
      "([23, 56], 'Hello', 'o')\n",
      "Use of **kwargs\n",
      "{'name': 'Nirmala', 'roll': 18, 'dept': 'CSE'}\n"
     ]
    }
   ],
   "source": [
    "''' Q2. Why *args and **kwargs is used in some functions? Create a function each for *args and **kwargs\n",
    "to demonstrate their use. '''\n",
    "\n",
    "# *args is used to take any number of  inputs in the function  & **kwargs is used to take any number of key value pair as input in a function.\n",
    "\n",
    "print(\"Use of  *args\")\n",
    "def test1(*args):\n",
    "    return args\n",
    "print(test1([23,56],\"Hello\",'o'))\n",
    "\n",
    "print(\"Use of **kwargs\")\n",
    "def test2(**kwargs):\n",
    "    return kwargs\n",
    "print(test2(name=\"Nirmala\",roll=18,dept=\"CSE\")) "
   ]
  },
  {
   "cell_type": "code",
   "execution_count": 3,
   "id": "6891ab9f-9070-4b6f-a04a-024aa2fc59ad",
   "metadata": {},
   "outputs": [
    {
     "name": "stdout",
     "output_type": "stream",
     "text": [
      "2\n",
      "4\n",
      "6\n",
      "8\n",
      "10\n"
     ]
    }
   ],
   "source": [
    "'''Q3. What is an iterator in python? Name the method used to initialise the iterator object and the method\n",
    "used for iteration. Use these methods to print the first five elements of the given list [2, 4, 6, 8, 10, 12, 14,\n",
    "16, 18, 20]. '''\n",
    "\n",
    "# Iterator is an object which is used to iterate or traverse the each element of a list , tuple, set and dictionary.\n",
    "#The iterator object is initialized using the iter() method & uses the next() method for iteration.\n",
    "l = [2,4,6,8,10,12,14,16,18,20]\n",
    "iterator = iter(l)\n",
    "print(next(iterator))\n",
    "print(next(iterator))\n",
    "print(next(iterator))\n",
    "print(next(iterator))\n",
    "print(next(iterator))"
   ]
  },
  {
   "cell_type": "code",
   "execution_count": 4,
   "id": "fa5fdbf3-a3b1-4873-9001-13c6e64ab569",
   "metadata": {},
   "outputs": [
    {
     "name": "stdout",
     "output_type": "stream",
     "text": [
      "17\n",
      "18\n"
     ]
    }
   ],
   "source": [
    "''' Q4. What is a generator function in python? Why yield keyword is used? Give an example of a generator\n",
    "function. '''\n",
    "'''Generator Function : is used to create iterators & return a traversal object. It is similar like normal function instead of one 'return' statement it \n",
    "can use multiple 'yield' keyword in the code block.''' \n",
    "''' Yield keyword is used to return from the generator function without destroying the state of a local variable '''\n",
    "def generator_fun():\n",
    "    yield 17\n",
    "    yield 18\n",
    "    \n",
    "for i in generator_fun():\n",
    "    print(i)"
   ]
  },
  {
   "cell_type": "code",
   "execution_count": 5,
   "id": "ff86d707-1b9a-4a9c-9dfb-834c874de531",
   "metadata": {},
   "outputs": [
    {
     "name": "stdout",
     "output_type": "stream",
     "text": [
      "2\n",
      "3\n",
      "5\n",
      "7\n",
      "11\n",
      "13\n",
      "17\n",
      "19\n",
      "23\n",
      "29\n",
      "31\n",
      "37\n",
      "41\n",
      "43\n",
      "47\n",
      "53\n",
      "59\n",
      "61\n",
      "67\n"
     ]
    }
   ],
   "source": [
    "''' Q5. Create a generator function for prime numbers less than 1000. Use the next() method to print the\n",
    "first 20 prime numbers. '''\n",
    "def is_prime(x):\n",
    "    if x < 2:\n",
    "        return False\n",
    "    else:\n",
    "        for n in range(2, x):\n",
    "            if x % n == 0:\n",
    "                return False\n",
    "        return True\n",
    "    \n",
    "def prime_generator():\n",
    "    n = 1\n",
    "    while True:\n",
    "        n += 1\n",
    "        if is_prime(n):\n",
    "            yield n\n",
    "\n",
    "generator = prime_generator()\n",
    "for i in range(1,20):\n",
    "    print(next(generator))    "
   ]
  },
  {
   "cell_type": "code",
   "execution_count": 6,
   "id": "2207db7f-e898-438f-921a-3133b666467f",
   "metadata": {},
   "outputs": [
    {
     "name": "stdout",
     "output_type": "stream",
     "text": [
      "0\n",
      "1\n",
      "1\n",
      "2\n",
      "3\n",
      "5\n",
      "8\n",
      "13\n",
      "21\n",
      "34\n"
     ]
    }
   ],
   "source": [
    "'''Q6. Write a python program to print the first 10 Fibonacci numbers using a while loop.'''\n",
    "i,j=0,1\n",
    "counter = 1\n",
    "while counter <= 10 :\n",
    "    k = i + j\n",
    "    print(i)\n",
    "    i = j\n",
    "    j = k\n",
    "    counter += 1"
   ]
  },
  {
   "cell_type": "code",
   "execution_count": 7,
   "id": "cc47f65b-bf57-4ccf-9fbd-1a967969bb6e",
   "metadata": {},
   "outputs": [
    {
     "data": {
      "text/plain": [
       "['p', 'w', 's', 'k', 'i', 'l', 'l', 's']"
      ]
     },
     "execution_count": 7,
     "metadata": {},
     "output_type": "execute_result"
    }
   ],
   "source": [
    "''' Q7. Write a List Comprehension to iterate through the given string: ‘pwskills’.\n",
    "Expected output: ['p', 'w', 's', 'k', 'i', 'l', 'l', 's'] '''\n",
    "s = 'pwskills'\n",
    "l = []\n",
    "[ i  for i in s]"
   ]
  },
  {
   "cell_type": "code",
   "execution_count": null,
   "id": "15d27d91-195d-4b3a-b4ef-ac63b61934c3",
   "metadata": {},
   "outputs": [],
   "source": [
    "'''Q8.Write a python program to check whether a given number is Palindrome or not using a while loop.'''\n",
    "\n",
    "num = int(input(\"Enter the number\"))\n",
    "s = str(num)\n",
    "i,flag = 0, True\n",
    "length = len(s)\n",
    "while i < length//2 :\n",
    "    if s[i] != s[length-i-1] :\n",
    "        flag = False\n",
    "        break;\n",
    "    i += 1\n",
    "if flag : \n",
    "    print(\"Yes the given number is a palindrome\")\n",
    "else:\n",
    "    print(\"No the given number is not a palindrome\")"
   ]
  },
  {
   "cell_type": "code",
   "execution_count": null,
   "id": "252d4b21-9233-4b08-bdb3-ea0673fd8eba",
   "metadata": {},
   "outputs": [],
   "source": [
    "'''Q9. Write a code to print odd numbers from 1 to 100 using list comprehension.'''\n",
    "[i for i in range(1,101,2) ]"
   ]
  },
  {
   "cell_type": "code",
   "execution_count": null,
   "id": "2772a7e3-fc1e-4317-96d4-831b3a3315b7",
   "metadata": {},
   "outputs": [],
   "source": []
  }
 ],
 "metadata": {
  "kernelspec": {
   "display_name": "Python 3 (ipykernel)",
   "language": "python",
   "name": "python3"
  },
  "language_info": {
   "codemirror_mode": {
    "name": "ipython",
    "version": 3
   },
   "file_extension": ".py",
   "mimetype": "text/x-python",
   "name": "python",
   "nbconvert_exporter": "python",
   "pygments_lexer": "ipython3",
   "version": "3.10.8"
  }
 },
 "nbformat": 4,
 "nbformat_minor": 5
}
