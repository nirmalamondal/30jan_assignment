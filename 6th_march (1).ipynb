{
 "cells": [
  {
   "cell_type": "code",
   "execution_count": 11,
   "id": "b3a7bc56-caac-418f-9768-699a78f49a3f",
   "metadata": {},
   "outputs": [
    {
     "data": {
      "text/plain": [
       "'Statistics is the science concerned with developing and studying methods for collecting, analyzing, interpreting and presenting empirical data.'"
      ]
     },
     "execution_count": 11,
     "metadata": {},
     "output_type": "execute_result"
    }
   ],
   "source": [
    "#Q1. What is Statistics?\n",
    "\n",
    "'''Statistics is the science concerned with developing and studying methods for collecting, analyzing, interpreting and presenting empirical data.'''\n"
   ]
  },
  {
   "cell_type": "code",
   "execution_count": 12,
   "id": "83c2e0b6-ecdc-4087-be3f-f27078431a47",
   "metadata": {},
   "outputs": [
    {
     "ename": "SyntaxError",
     "evalue": "incomplete input (1627419350.py, line 2)",
     "output_type": "error",
     "traceback": [
      "\u001b[0;36m  Cell \u001b[0;32mIn[12], line 2\u001b[0;36m\u001b[0m\n\u001b[0;31m    '''\u001b[0m\n\u001b[0m    ^\u001b[0m\n\u001b[0;31mSyntaxError\u001b[0m\u001b[0;31m:\u001b[0m incomplete input\n"
     ]
    }
   ],
   "source": [
    "#Q2. Define the different types of statistics and give an example of when each type might be used.\n",
    "'''\n",
    "There are two types of statistic are present -- 1.Descriptive - It consist of organizing and summerating data. Example - find out the mean height of students in a class.\n",
    "                                                2.Infercential - It consist of using data you have measured to form conclusion.\n",
    "                                                 "
   ]
  },
  {
   "cell_type": "code",
   "execution_count": 13,
   "id": "86871197-4168-4dcb-a8c8-fddeedc14d50",
   "metadata": {},
   "outputs": [
    {
     "data": {
      "text/plain": [
       "\"\\ntypes of data - 1.Qulitative data - works on categorical data. It can be further divided into 'Nominal' and 'Ordinal'. Example - Gender , Customer Feedback,Bloood group etc.\\n                2.Qunatative data - Works on numerical data. It can be divided into two types 'Discrete'and 'Continious'.Example - Height,Weight, No. of students in a class.\\n                \\n\""
      ]
     },
     "execution_count": 13,
     "metadata": {},
     "output_type": "execute_result"
    }
   ],
   "source": [
    "#Q3. What are the different types of data and how do they differ from each other? Provide an example of each type of data.\n",
    "\n",
    "\"\"\"\n",
    "types of data - 1.Qulitative data - works on categorical data. It can be further divided into 'Nominal' and 'Ordinal'. Example - Gender , Customer Feedback,Bloood group etc.\n",
    "                2.Qunatative data - Works on numerical data. It can be divided into two types 'Discrete'and 'Continious'.Example - Height,Weight, No. of students in a class.\n",
    "                \n",
    "\"\"\"                "
   ]
  },
  {
   "cell_type": "code",
   "execution_count": 14,
   "id": "e03188a2-980b-4aa4-996d-fb00888ded6c",
   "metadata": {},
   "outputs": [],
   "source": [
    "#Q4. Categorise the following datasets with respect to quantitative and qualitative data types:\n",
    "#(i) Grading in exam: A+, A, B+, B, C+, C, D, E  --- \"\"\"  Ordinal(Qulitative data)  \"\"\"\n",
    "#(ii) Colour of mangoes: yellow, green, orange, red ----\"\"\"  Nominal  (Qulitative data )  \"\"\"\n",
    "#(iii) Height data of a class: [178.9, 179, 179.5, 176, 177.2, 178.3, 175.8,...] ---  \"\"\" Continious (Qunatative data) \"\"\"\n",
    "#(iv) Number of mangoes exported by a farm: [500, 600, 478, 672, ...]  ------ \"\"\" Discrete  (Qunatative data)\"\"\""
   ]
  },
  {
   "cell_type": "code",
   "execution_count": 15,
   "id": "a75138b5-e768-4e74-a4ba-e1a37aabbbaf",
   "metadata": {},
   "outputs": [
    {
     "data": {
      "text/plain": [
       "'\\n1.Nominal level: This is the lowest level of measurement where variables are categorized into distinct groups or categories. Example - Gender, Marital status ,Eye color etc.\\n\\n\\n2.Ordinal level: Variables at the ordinal level have categories that can be ordered or ranked based on some criteria, but the differences between categories may not be equal\\nor quantifiable. Example - Feedback(Best,Good,Bad) , Race completing Time etc.\\n\\n3.Interval level: Variables at the interval level have categories that can be ordered, and the differences between categories are equal and quantifiable. However, there is \\nno true zero point or absence of the variable being measured.  Example - Temperature\\n\\n4.Ratio level: Variables at the ratio level have all the characteristics of interval variables, with the additional property of having a true zero point or absence of the \\nvariable being measured. This allows for meaningful ratios and comparisons between values. Example - height,weight etc.\\n'"
      ]
     },
     "execution_count": 15,
     "metadata": {},
     "output_type": "execute_result"
    }
   ],
   "source": [
    "#Q5. Explain the concept of levels of measurement and give an example of a variable for each level.\n",
    "\"\"\"\n",
    "1.Nominal level: This is the lowest level of measurement where variables are categorized into distinct groups or categories. Example - Gender, Marital status ,Eye color etc.\n",
    "\n",
    "\n",
    "2.Ordinal level: Variables at the ordinal level have categories that can be ordered or ranked based on some criteria, but the differences between categories may not be equal\n",
    "or quantifiable. Example - Feedback(Best,Good,Bad) , Race completing Time etc.\n",
    "\n",
    "3.Interval level: Variables at the interval level have categories that can be ordered, and the differences between categories are equal and quantifiable. However, there is \n",
    "no true zero point or absence of the variable being measured.  Example - Temperature\n",
    "\n",
    "4.Ratio level: Variables at the ratio level have all the characteristics of interval variables, with the additional property of having a true zero point or absence of the \n",
    "variable being measured. This allows for meaningful ratios and comparisons between values. Example - height,weight etc.\n",
    "\"\"\"\n"
   ]
  },
  {
   "cell_type": "code",
   "execution_count": 16,
   "id": "e7aee807-83f0-44b2-bd67-c01af723ad39",
   "metadata": {},
   "outputs": [
    {
     "ename": "SyntaxError",
     "evalue": "invalid syntax (2139622975.py, line 2)",
     "output_type": "error",
     "traceback": [
      "\u001b[0;36m  Cell \u001b[0;32mIn[16], line 2\u001b[0;36m\u001b[0m\n\u001b[0;31m    example to illustrate your answer.\u001b[0m\n\u001b[0m            ^\u001b[0m\n\u001b[0;31mSyntaxError\u001b[0m\u001b[0;31m:\u001b[0m invalid syntax\n"
     ]
    }
   ],
   "source": [
    "#Q6.Why is it important to understand the level of measurement when analyzing data? Provide an example to illustrate your answer.\n",
    "\"\"\"\n",
    "Understanding the level of measurement when analyzing data is crucial because it determines the appropriate statistical techniques and operations that can be applied to \n",
    "the data. It helps researchers choose the most suitable analysis methods, interpret the results accurately, and draw meaningful conclusions.\n",
    "\n",
    "Here's an example to illustrate the importance of understanding the level of measurement: Let's consider a scenario where a researcher wants to analyze the impact of \n",
    "different teaching methods on students' academic performance. The researcher collects data on the teaching method used (nominal), students' ratings of their satisfaction \n",
    "with the teaching method on a scale of 1-5 (ordinal), and students' test scores out of 100 (ratio).If the researcher fails to recognize the level of measurement, they may \n",
    "inadvertently apply inappropriate statistical techniques, leading to inaccurate or misleading results. \n",
    "\"\"\""
   ]
  },
  {
   "cell_type": "code",
   "execution_count": 17,
   "id": "ff712785-d7f9-44eb-ac6b-5a042e3de9dd",
   "metadata": {},
   "outputs": [
    {
     "data": {
      "text/plain": [
       "'\\nNominal data is the lowest level of measurement. It involves variables that are categorized into distinct groups or categories, with no inherent order or numerical meaning\\nassociated with the categories. In nominal data, the categories are mutually exclusive, meaning each observation can only belong to one category.\\n\\nOrdinal data is the next level of measurement, above nominal data. It involves variables that can be ordered or ranked based on some criteria. While the categories in \\nordinal data have a relative position or order, the differences between categories may not be equal or quantifiable. In other words, the numerical distance between two\\ncategories is not meaningful. \\n\\n'"
      ]
     },
     "execution_count": 17,
     "metadata": {},
     "output_type": "execute_result"
    }
   ],
   "source": [
    "#Q7.How nominal data type is different from ordinal data type.\n",
    "\"\"\"\n",
    "Nominal data is the lowest level of measurement. It involves variables that are categorized into distinct groups or categories, with no inherent order or numerical meaning\n",
    "associated with the categories. In nominal data, the categories are mutually exclusive, meaning each observation can only belong to one category.\n",
    "\n",
    "Ordinal data is the next level of measurement, above nominal data. It involves variables that can be ordered or ranked based on some criteria. While the categories in \n",
    "ordinal data have a relative position or order, the differences between categories may not be equal or quantifiable. In other words, the numerical distance between two\n",
    "categories is not meaningful. \n",
    "\n",
    "\"\"\""
   ]
  },
  {
   "cell_type": "code",
   "execution_count": 19,
   "id": "ba6cbd9f-70fc-484f-9c84-3b2673853625",
   "metadata": {},
   "outputs": [
    {
     "data": {
      "text/plain": [
       "'\\nA box plot  can be used to display data in terms of range.\\n'"
      ]
     },
     "execution_count": 19,
     "metadata": {},
     "output_type": "execute_result"
    }
   ],
   "source": [
    "#Q8. Which type of plot can be used to display data in terms of range?\n",
    "\"\"\"\n",
    "A box plot  can be used to display data in terms of range.\n",
    "\"\"\""
   ]
  },
  {
   "cell_type": "code",
   "execution_count": 20,
   "id": "edbcc573-e73d-4c1b-a80d-2bb906495b8a",
   "metadata": {},
   "outputs": [
    {
     "data": {
      "text/plain": [
       "'\\nDescriptive statistics involves summarizing and describing the main features or characteristics of a dataset. It focuses on organizing, presenting, and analyzing data to \\nprovide a clear and meaningful summary. Descriptive statistics do not involve generalizing beyond the specific dataset being analyzed. \\n\\nInferential statistics involves making inferences, predictions, or generalizations about a population based on sample data. It goes beyond the specific dataset and aims to \\ndraw conclusions or test hypotheses about a larger population. Inferential statistics utilize probability theory to quantify the level of confidence or uncertainty in the \\nresults. \\n'"
      ]
     },
     "execution_count": 20,
     "metadata": {},
     "output_type": "execute_result"
    }
   ],
   "source": [
    "#Q9. Describe the difference between descriptive and inferential statistics. Give an example of each type of statistics and explain how they are used.\n",
    "\n",
    "\"\"\"\n",
    "Descriptive statistics involves summarizing and describing the main features or characteristics of a dataset. It focuses on organizing, presenting, and analyzing data to \n",
    "provide a clear and meaningful summary. Descriptive statistics do not involve generalizing beyond the specific dataset being analyzed. \n",
    "\n",
    "Inferential statistics involves making inferences, predictions, or generalizations about a population based on sample data. It goes beyond the specific dataset and aims to \n",
    "draw conclusions or test hypotheses about a larger population. Inferential statistics utilize probability theory to quantify the level of confidence or uncertainty in the \n",
    "results. \n",
    "\"\"\""
   ]
  },
  {
   "cell_type": "code",
   "execution_count": 21,
   "id": "99c946f3-429d-49fc-88ac-e52198315064",
   "metadata": {},
   "outputs": [
    {
     "data": {
      "text/plain": [
       "'\\nMean: The mean is the arithmetic average of a dataset. It is calculated by summing all the values in the dataset and dividing by the total number of observations. \\n\\nMedian: The median is the middle value in a dataset when it is sorted in ascending or descending order. \\n\\nMode: The mode is the value or values that appear most frequently in a dataset.\\n\\nRange: The range is the difference between the maximum and minimum values in a dataset.\\n\\nVariance: Variance measures the average squared deviation of each value from the mean.\\n\\nStandard Deviation: The standard deviation is the square root of the variance. It provides a measure of the average distance between each data point and the mean.\\n\\n'"
      ]
     },
     "execution_count": 21,
     "metadata": {},
     "output_type": "execute_result"
    }
   ],
   "source": [
    "#Q10. What are some common measures of central tendency and variability used in statistics? Explain how each measure can be used to describe a dataset.\n",
    "\"\"\"\n",
    "Mean: The mean is the arithmetic average of a dataset. It is calculated by summing all the values in the dataset and dividing by the total number of observations. \n",
    "\n",
    "Median: The median is the middle value in a dataset when it is sorted in ascending or descending order. \n",
    "\n",
    "Mode: The mode is the value or values that appear most frequently in a dataset.\n",
    "\n",
    "Range: The range is the difference between the maximum and minimum values in a dataset.\n",
    "\n",
    "Variance: Variance measures the average squared deviation of each value from the mean.\n",
    "\n",
    "Standard Deviation: The standard deviation is the square root of the variance. It provides a measure of the average distance between each data point and the mean.\n",
    "\n",
    "\"\"\""
   ]
  },
  {
   "cell_type": "code",
   "execution_count": null,
   "id": "98c572d9-bd9b-44c8-bf93-3268fe4caa19",
   "metadata": {},
   "outputs": [],
   "source": []
  }
 ],
 "metadata": {
  "kernelspec": {
   "display_name": "Python 3 (ipykernel)",
   "language": "python",
   "name": "python3"
  },
  "language_info": {
   "codemirror_mode": {
    "name": "ipython",
    "version": 3
   },
   "file_extension": ".py",
   "mimetype": "text/x-python",
   "name": "python",
   "nbconvert_exporter": "python",
   "pygments_lexer": "ipython3",
   "version": "3.10.8"
  }
 },
 "nbformat": 4,
 "nbformat_minor": 5
}
