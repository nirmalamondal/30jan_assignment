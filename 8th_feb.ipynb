{
 "cells": [
  {
   "cell_type": "code",
   "execution_count": 11,
   "id": "1368046e-d0a7-4c08-a188-0dda4124e759",
   "metadata": {},
   "outputs": [
    {
     "name": "stdout",
     "output_type": "stream",
     "text": [
      "Ram\n",
      "5 years\n",
      "shayam\n"
     ]
    }
   ],
   "source": [
    "''' Q1. What is Abstraction in OOps? Explain with an example. '''\n",
    "\n",
    "'''Abstraction is a process of creating skeleton of methods & function within a class without defining them. We can use those methods or function\n",
    "further in multiple class with providing different different defination according to need.'''\n",
    "import abc \n",
    "class c1:\n",
    "    @abc.abstractmethod\n",
    "    def emp_name(self):\n",
    "        pass\n",
    "    @abc.abstractmethod\n",
    "    def emp_salary(self):\n",
    "        pass\n",
    "    @abc.abstractmethod\n",
    "    def emp_experience(self):\n",
    "        pass\n",
    "\n",
    "class pqr(c1):\n",
    "    def emp_salary(self):\n",
    "        return 15000\n",
    "    def emp_name(self):\n",
    "        return \"Ram\"\n",
    "    \n",
    "class xyz(c1):\n",
    "    def emp_experience(self):\n",
    "        return \"5 years\"\n",
    "    def emp_name(self):\n",
    "        return \"shayam\"  \n",
    "    \n",
    "emp_of_pqr = pqr()\n",
    "emp_of_xyz = xyz()\n",
    "print(emp_of_pqr.emp_name())\n",
    "print(emp_of_xyz.emp_experience())\n",
    "print(emp_of_xyz.emp_name())\n"
   ]
  },
  {
   "cell_type": "code",
   "execution_count": 16,
   "id": "5fe749e0-cf99-4969-bef7-949213f9a500",
   "metadata": {},
   "outputs": [
    {
     "name": "stdout",
     "output_type": "stream",
     "text": [
      "maths : 100\n",
      "Physics : 99\n",
      "Chemistry: 95\n",
      "23000\n",
      "None\n",
      "25000\n",
      "True\n",
      "20500\n",
      "False\n",
      "20500\n"
     ]
    }
   ],
   "source": [
    "''' Q2. Differentiate between Abstraction and Encapsulation. Explain with an example.\n",
    "'''\n",
    "'''Abstraction is a process of creating skeleton of methods & function within a class without defining them where as Encapsulation is a process of \n",
    "hiding the data in a single entity or unit along with a method to protect information from outside.\n",
    "Other outside classes can access the property  of abstract class & can define according to need but in encapsulation other classes can not access \n",
    "directly.So it provides the security & hiding internal implementation. '''\n",
    "# abstraction\n",
    "import abc\n",
    "class Marks:\n",
    "    @abc.abstractmethod\n",
    "    def marks(self):\n",
    "        pass\n",
    "class Maths(Marks):\n",
    "    def marks(self):\n",
    "        print(\"maths : 100\")\n",
    "class Physics(Marks):\n",
    "    def marks(self):\n",
    "        print(\"Physics : 99\")\n",
    "class Chemistry(Marks):\n",
    "    def marks(self):\n",
    "        print(\"Chemistry: 95\")\n",
    "maths=Maths()\n",
    "physics=Physics()\n",
    "chemistry=Chemistry()\n",
    "maths.marks()\n",
    "physics.marks()\n",
    "chemistry.marks()\n",
    "\n",
    "\n",
    "\n",
    "# Encapsulation\n",
    "class bank_account:\n",
    "    def __init__(self,name,bank_name,account_no,balance):\n",
    "        self.__name = name\n",
    "        self.__bank_name = bank_name\n",
    "        self.__account_no = account_no\n",
    "        self.__balance = balance\n",
    "    def check_balance(self):\n",
    "        return self.__balance\n",
    "    def deposit(self,amount):\n",
    "        self.__balance = self.__balance + amount\n",
    "    def withdrawl(self,amount):\n",
    "        if amount<self.__balance:\n",
    "            self.__balance = self.__balance - amount\n",
    "            return True\n",
    "        else:\n",
    "            return False   \n",
    "        \n",
    "Nirmala = bank_account(\"Nirmala\",\"SBI\",234556,23000)\n",
    "print(Nirmala.check_balance())\n",
    "print(Nirmala.deposit(2000))\n",
    "print(Nirmala.check_balance())\n",
    "print(Nirmala.withdrawl(4500))\n",
    "print(Nirmala.check_balance())\n",
    "print(Nirmala.withdrawl(21000))\n",
    "print(Nirmala.check_balance())"
   ]
  },
  {
   "cell_type": "code",
   "execution_count": null,
   "id": "6df980ba-ac04-4c7e-b2b3-0c83128841f9",
   "metadata": {},
   "outputs": [],
   "source": [
    "''' Q3. What is abc module in python? Why is it used? '''\n",
    "\"\"\" The ‘abc’ module in the Python is used to provide the infrastructure for defining abstract base classes. With help of it we can also\n",
    "create abstract method. In python directly there is no way to create abstract class or abstract methods using 'abc' module we can create \n",
    "abstract class & methods.\"\"\""
   ]
  },
  {
   "cell_type": "code",
   "execution_count": null,
   "id": "b67a1cba-ebd3-42bc-bab2-7758fdd0314f",
   "metadata": {},
   "outputs": [],
   "source": [
    "''' Q4. How can we achieve data abstraction? '''\n",
    "\"\"\" data abstraction means hiding the internal implementation. In python library a module named 'abc' is available through which we can achieve\n",
    "abstraction. 'abstractmethod' and 'abstrractclassmethod' are used . \"\"\""
   ]
  },
  {
   "cell_type": "code",
   "execution_count": null,
   "id": "3b8e12a5-2b91-4143-9058-caadabc65337",
   "metadata": {},
   "outputs": [],
   "source": [
    "''' Q5. Can we create an instance of an abstract class? Explain your answer. '''\n",
    "\"\"\" No, we can not create an instance of an abstract class. As there is no implementation of abstract methods in abstract class it is \n",
    "just a blueprint of subclasses so we can't. \"\"\""
   ]
  },
  {
   "cell_type": "code",
   "execution_count": null,
   "id": "a15644ac-ff28-4d7b-acdb-3d150a022fc4",
   "metadata": {},
   "outputs": [],
   "source": []
  }
 ],
 "metadata": {
  "kernelspec": {
   "display_name": "Python 3 (ipykernel)",
   "language": "python",
   "name": "python3"
  },
  "language_info": {
   "codemirror_mode": {
    "name": "ipython",
    "version": 3
   },
   "file_extension": ".py",
   "mimetype": "text/x-python",
   "name": "python",
   "nbconvert_exporter": "python",
   "pygments_lexer": "ipython3",
   "version": "3.10.8"
  }
 },
 "nbformat": 4,
 "nbformat_minor": 5
}
