{
 "cells": [
  {
   "cell_type": "code",
   "execution_count": 1,
   "id": "fd5330f9-7304-415f-9cb5-c0553e9547c3",
   "metadata": {},
   "outputs": [
    {
     "name": "stdout",
     "output_type": "stream",
     "text": [
      "Tata Nexon\n",
      "petrol\n",
      "diesel\n",
      "3800000\n"
     ]
    }
   ],
   "source": [
    "''' Q1. Explain Class and Object with respect to Object-Oriented Programming. Give a suitable example. '''\n",
    "''' Class is a blueprint or skeleton of an object. Suppose a class is prototype of a car that contains all the details about the model, \n",
    "speed,seat,price, etc. we can make as many car as we want, based on features of that class.Hence, the car can be seen as a class, \n",
    "and we can create as many objects of this class.\n",
    "Object is known as instance of a class. we can create multiple object of same class. Like c1, c2, c3 etc. And all of them can use the features of that \n",
    "same class car.\n",
    "'''\n",
    "class car:\n",
    "    \n",
    "    def __init__(self,model,types,price):\n",
    "        self.model= model\n",
    "        self.types= types\n",
    "        self.price = price\n",
    "        \n",
    "        \n",
    "c1 = car(\"Tata Nexon\",\"diesel\",900000)\n",
    "c2 = car(\"Toyota Fortuner\",\"diesel\",3800000)\n",
    "c3 = car(\"Mahindra Thar\",\"diesel\",1200000)\n",
    "c4 = car(\"Tata Punch\",\"petrol\",700000)\n",
    "print(c1.model)\n",
    "print(c4.types)\n",
    "print(c3.types)\n",
    "print(c2.price)"
   ]
  },
  {
   "cell_type": "code",
   "execution_count": 2,
   "id": "bbb57c70-45b4-4088-9fd8-32998f6f7ba0",
   "metadata": {},
   "outputs": [
    {
     "data": {
      "text/plain": [
       "'\\nFour pillars of OOPs are:\\n1.Polymorphism\\n2.Inheritance\\n3.Encapsulation\\n4.Abstraction\\n\\n'"
      ]
     },
     "execution_count": 2,
     "metadata": {},
     "output_type": "execute_result"
    }
   ],
   "source": [
    "''' Q2. Name the four pillars of OOPs. '''\n",
    "'''\n",
    "Four pillars of OOPs are:\n",
    "1.Polymorphism\n",
    "2.Inheritance\n",
    "3.Encapsulation\n",
    "4.Abstraction\n",
    "\n",
    "'''"
   ]
  },
  {
   "cell_type": "code",
   "execution_count": 3,
   "id": "215d37dc-6300-4ab6-9c61-e1e7eadb71e4",
   "metadata": {},
   "outputs": [
    {
     "name": "stdout",
     "output_type": "stream",
     "text": [
      "('Nirmala', 19, 'CSE', 5768091234)\n",
      "('Chaitali', 23, 'EE', 2734679088)\n",
      "('Piya', 11, 'CSE', 654568786754)\n"
     ]
    }
   ],
   "source": [
    "''' Q3. Explain why the __init__() function is used. Give a suitable example. '''\n",
    "''' \n",
    "__init__ function is used to take input from a classobject. when a function is created in a class if we use __init__ then only it can take \n",
    "input from the object.\n",
    "'''\n",
    "class student_details:\n",
    "    def __init__(self,name,roll,dept,phone_no):\n",
    "        self.__name = name\n",
    "        self.__roll = roll\n",
    "        self.__dept = dept\n",
    "        self.__phonr_no = phone_no\n",
    "    def fetch_details(self):\n",
    "        return self.__name, self.__roll,self.__dept,self.__phonr_no\n",
    "    \n",
    "s1 =  student_details(\"Nirmala\",19,\"CSE\",5768091234)\n",
    "s2 =  student_details(\"Chaitali\",23,\"EE\",2734679088)\n",
    "s3 =  student_details(\"Piya\",11,\"CSE\",654568786754)\n",
    "print(s1.fetch_details())\n",
    "print(s2.fetch_details())\n",
    "print(s3.fetch_details())\n",
    "        "
   ]
  },
  {
   "cell_type": "code",
   "execution_count": 4,
   "id": "407caf5b-ca7c-47a0-a681-86dd5c0323db",
   "metadata": {},
   "outputs": [
    {
     "data": {
      "text/plain": [
       "'\\nself is used to represent the instance of a class. It points the object & pass as a paramenter to refer the method & attributes of an instance\\nof a class\\n'"
      ]
     },
     "execution_count": 4,
     "metadata": {},
     "output_type": "execute_result"
    }
   ],
   "source": [
    "'''  Q4. Why self is used in OOPs? '''\n",
    "'''\n",
    "self is used to represent the instance of a class. It points the object & pass as a paramenter to refer the method & attributes of an instance\n",
    "of a class\n",
    "'''"
   ]
  },
  {
   "cell_type": "code",
   "execution_count": 9,
   "id": "6a5d4a06-6a18-441a-a806-33f3c7f712de",
   "metadata": {},
   "outputs": [
    {
     "name": "stdout",
     "output_type": "stream",
     "text": [
      "9\n",
      "4\n",
      "Hello I am Test1 class\n",
      "Hello I am Test2 class\n",
      "Hello I am Test2 class\n",
      "Hello I am Test2 class\n",
      "Hello I am Test3 class\n",
      "Hello I am Example1 class\n",
      "Hello I am Example2 class\n",
      "Hello I am Example3 class\n",
      "Hello I am class1 class\n",
      "Hello I am class3 class\n",
      "Hello I am class1 class\n",
      "Hello I am class2 class\n"
     ]
    }
   ],
   "source": [
    "'''   Q5. What is inheritance? Give an example for each type of inheritance. '''\n",
    "'''\n",
    "Inheritance is one of the property of OOPs. It allows a class to inherits the properties(methods,variables) of other class.\n",
    "So the code reuseability is provided through inheritance. From which class the properties are inherited is called parent class & which class inherits\n",
    "those properties is called child class.\n",
    "There are four types of inheritances present in python-\n",
    "1.Single Inheritance\n",
    "2.Multiple Inheritance\n",
    "3.Multilevel Inheritance\n",
    "4.Hierarchical Inheritance\n",
    "'''\n",
    "#singnle inhertance:\n",
    "class Add:\n",
    "    def add(self,a,b):\n",
    "        return a+b\n",
    "        \n",
    "class Sub(Add):\n",
    "    def sub(self,a,b):\n",
    "        return a-b\n",
    "    \n",
    "obj = Sub()\n",
    "print(obj.add(4,5))\n",
    "print(obj.sub(6,2))\n",
    "    \n",
    "    \n",
    "# Multilevel Inheritance\n",
    "class Test1:\n",
    "    def test1(self):\n",
    "        return \"Hello I am Test1 class\"\n",
    "    \n",
    "class Test2(Test1):\n",
    "    def test2(self):\n",
    "        return \"Hello I am Test2 class\"\n",
    "    \n",
    "class Test3(Test2):\n",
    "    def test3(self):\n",
    "        return \"Hello I am Test3 class\"\n",
    "    \n",
    "obj2 = Test2()\n",
    "obj3 = Test3()\n",
    "print(obj2.test1())\n",
    "print(obj2.test2())\n",
    "print(obj3.test2())\n",
    "print(obj3.test2())\n",
    "print(obj3.test3())\n",
    "    \n",
    "#Multiple Inheritance:\n",
    "\n",
    "class Example1:\n",
    "    def ex1(self):\n",
    "        return \"Hello I am Example1 class\"\n",
    "    \n",
    "class Example2():\n",
    "    def ex2(self):\n",
    "        return \"Hello I am Example2 class\"\n",
    "    \n",
    "class Example3(Example1,Example2):\n",
    "    def ex3(self):\n",
    "        return \"Hello I am Example3 class\"\n",
    "    \n",
    "obj4 = Example3()\n",
    "print(obj4.ex1())\n",
    "print(obj4.ex2())\n",
    "print(obj4.ex3())\n",
    "\n",
    "#Hierarchical Inheritance:\n",
    "\n",
    "\n",
    "class class1:\n",
    "    def c1(self):\n",
    "        return \"Hello I am class1 class\"\n",
    "    \n",
    "class class2(class1):\n",
    "    def c2(self):\n",
    "        return \"Hello I am class2 class\"\n",
    "    \n",
    "class class3(class1):\n",
    "    def c3(self):\n",
    "        return \"Hello I am class3 class\"\n",
    "    \n",
    "    \n",
    "obj5 = class3()\n",
    "obj6 = class2()\n",
    "print(obj5.c1())\n",
    "print(obj5.c3())\n",
    "print(obj6.c1())\n",
    "print(obj6.c2())\n",
    "\n"
   ]
  },
  {
   "cell_type": "code",
   "execution_count": null,
   "id": "11609f74-092d-4cb6-a916-936b17ebaa4b",
   "metadata": {},
   "outputs": [],
   "source": []
  }
 ],
 "metadata": {
  "kernelspec": {
   "display_name": "Python 3 (ipykernel)",
   "language": "python",
   "name": "python3"
  },
  "language_info": {
   "codemirror_mode": {
    "name": "ipython",
    "version": 3
   },
   "file_extension": ".py",
   "mimetype": "text/x-python",
   "name": "python",
   "nbconvert_exporter": "python",
   "pygments_lexer": "ipython3",
   "version": "3.10.8"
  }
 },
 "nbformat": 4,
 "nbformat_minor": 5
}
