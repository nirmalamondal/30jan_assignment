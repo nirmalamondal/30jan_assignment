{
 "cells": [
  {
   "cell_type": "code",
   "execution_count": null,
   "id": "07e8b13b-493c-48df-a102-3aec7140232e",
   "metadata": {},
   "outputs": [],
   "source": [
    "#Q1. What is data encoding? How is it useful in data science?\n",
    "\n",
    "\n",
    " Data encoding is particularly relevant when working with categorical or textual data that cannot be directly processed by machine learning algorithms. \n",
    "By encoding such data, it becomes numerical and suitable for analysis by various machine learning models.\n",
    "\n",
    "1. Used to give high performances.\n",
    "2. Used to find more relevent informormation from the dataset.\n",
    "3. Used in feature engineering.\n",
    "4. Used to handel missing data by providing that missing values a different label.\n"
   ]
  },
  {
   "cell_type": "code",
   "execution_count": null,
   "id": "c6cf132b-f723-499e-ae70-d5c6e90c3d80",
   "metadata": {},
   "outputs": [],
   "source": [
    "#Q2. What is nominal encoding? Provide an example of how you would use it in a real-world scenario.\n",
    "\n",
    "Nominal encoding used to encode categorical variables based on the frequency or count of each category in the dataset. In nominal encoding, each category is\n",
    "replaced with its corresponding count or frequency value. \n",
    "\n",
    "\n",
    "example:\n",
    "Suppose you are working on a customer churn prediction problem for a telecommunications company. You have a dataset with various customer attributes, \n",
    "including a categorical variable called \"region\" that represents the geographic region of each customer. The \"region\" variable has categories such as \n",
    "\"North,\" \"South,\" \"East,\" and \"West\". To encode the \"region\" variable using nominal encoding, you would replace each category with its frequency or count in \n",
    "the dataset. For instance, if there are 500 customers from the North region, 300 from the South, 400 from the East, and 200 from the West, the nominal\n",
    "encoding would replace \"North\" with the value 500, \"South\" with 300, \"East\" with 400, and \"West\" with 200."
   ]
  },
  {
   "cell_type": "code",
   "execution_count": null,
   "id": "6a54311d-1d88-4f3a-95f3-5fc3d75e7d64",
   "metadata": {},
   "outputs": [],
   "source": [
    "#Q3. In what situations is nominal encoding preferred over one-hot encoding? Provide a practical example.\n",
    "Nominal encoding is preferred over one-hot encoding in situations where the categorical variable has a high cardinality, meaning it has a large number of\n",
    "unique categories. One-hot encoding can lead to high-dimensional data and result in the \"curse of dimensionality\" when applied to variables with many \n",
    "categories. In such cases, nominal encoding can be a more practical and efficient alternative.\n",
    "\n",
    "\n",
    "suppose a dataset consist of a feature that a person like butterscotch flavour ice-cream or not so it onlt have yes or no as datapoints so here the no.of \n",
    "categoties are two which is less . So here we can apply OneHotEncoding technique but when the it is asked that the favourite ice-cream flavour of a person\n",
    "and the column have multiple categories like 'butterscotch', 'chocolate','vanila', 'Strawberry','mango', 'kulfi','rabri','Kesar Elaichi ',so here we apply \n",
    "Nominal encoding instead of OneHotEncoding."
   ]
  },
  {
   "cell_type": "code",
   "execution_count": null,
   "id": "0cbaf5a7-e43e-40a2-8e91-0f56bb1350fd",
   "metadata": {},
   "outputs": [],
   "source": [
    "'''Q4. Suppose you have a dataset containing categorical data with 5 unique values. Which encoding technique would you use to transform this data into a\n",
    "format suitable for machine learning algorithms? Explain why you made this choice.'''\n",
    "\n",
    "I will Choose OneHotEncoding for a dataset containing categorical data with 5 unique values to transform this data into a format suitable for machine \n",
    "learning  algorithms.\n",
    "One-hot encoding treats each category as independent, without assuming any order or magnitude relationship between them. This flexibility is suitable for\n",
    "the categorical variable doesnot have an inherent order or ranking.\n",
    "\n",
    "One-hot encoding produces a clear and interpretable representation of categorical data. The presence or absence of a category in a binary column provides \n",
    "transparent information about the categories associated with a specific data point.\n",
    "\n",
    "Otherside OneHotEncoding provides the best solution than other encoding techniques when categories are less than equal to 5 values without order."
   ]
  },
  {
   "cell_type": "code",
   "execution_count": 15,
   "id": "74b8acc8-60f5-4410-99c6-6752b73621ad",
   "metadata": {},
   "outputs": [
    {
     "name": "stdout",
     "output_type": "stream",
     "text": [
      "  size  encoded_size\n",
      "0    S           0.0\n",
      "1    M           1.0\n",
      "2    L           2.0\n",
      "3    M           1.0\n",
      "4    S           0.0\n",
      "5    L           2.0\n",
      "6   XS           3.0\n",
      "7    M           1.0\n",
      "8   XS           3.0\n",
      "9  XXL           4.0\n"
     ]
    }
   ],
   "source": [
    "'''Q5.In a machine learning project, you have a dataset with 1000 rows and 5 columns. Two of the columns are categorical, and the remaining three columns\n",
    "are numerical. If you were to use nominal encoding to transform the categorical data, how many new columns would be created? Show your calculations.'''\n",
    "\n",
    "\n",
    "\n",
    "\n",
    "\n",
    "\n",
    "\n",
    "'''If we are using nominal encoding to transform the categorical data in the machine learning dataset, the number of new columns created would depend on the \n",
    "number of unique values in each categorical column. Let s assume the first categorical column has 15 unique values, and the second categorical column has 8 \n",
    "unique values.\n",
    "\n",
    "In this case, it would be:\n",
    "Number of new columns = Number of unique values in column 1 + Number of unique values in column 2\n",
    "= 15 + 8\n",
    "= 23\n",
    "So, if we were to use nominal encoding on the two categorical columns, it would result in the creation of 18 new columns in the dataset.'''\n",
    "\n",
    "import pandas as pd\n",
    "from sklearn.preprocessing import OrdinalEncoder\n",
    "df1 = pd.DataFrame({'size':['S','M','L','M','S','L','XS','M','XS','XXL']})\n",
    "encoder1 =  OrdinalEncoder(categories = [['S','M','L','XS','XXL']])\n",
    "encoded_data = encoder1.fit_transform(df1[['size']])\n",
    "encoded_df = pd.DataFrame(encoded_data, columns=['encoded_size'])\n",
    "encoded_df = pd.concat([df1, encoded_df], axis=1)\n",
    "\n",
    "print(encoded_df)\n",
    "\n"
   ]
  },
  {
   "cell_type": "code",
   "execution_count": null,
   "id": "d7f93397-198b-43f0-8f8d-bf95ee19e001",
   "metadata": {},
   "outputs": [],
   "source": [
    "'''Q6. You are working with a dataset containing information about different types of animals, including their species, habitat, and diet. Which encoding \n",
    "technique would you use to transform the categorical data into a format suitable for machine learning algorithms? Justify your answer.'''\n",
    "\n",
    "o transform the categorical data in a dataset containing information about different types of animals, including their species, habitat, and diet, the \n",
    "suitable encoding technique would depend on the specific characteristics of the categorical variables and the nature of the machine learning task at hand.\n",
    "If the categorical variables have no inherent order or ranking and each category is independent, one-hot encoding would be a suitable choice. One-hot \n",
    "encoding creates binary columns, representing the presence or absence of a category. Each category is transformed into a separate feature, allowing machine\n",
    "learning algorithms to capture the distinct characteristics and relationships between the different animal species, habitats, and diets.\n",
    "For example, the species could include categories like \"lion,\" \"tiger,\" and \"elephant,\" the habitat could include categories like \"savannah,\" \"rainforest,\" \n",
    "and \"desert,\" and the diet could include categories like \"carnivore,\" \"herbivore,\" and \"omnivore.\" In this case, using one-hot encoding would be appropriate \n",
    "to transform these categorical variables into a format suitable for machine learning algorithms."
   ]
  },
  {
   "cell_type": "code",
   "execution_count": 23,
   "id": "6b7e327e-3427-4923-a4ab-8295e606bc13",
   "metadata": {},
   "outputs": [
    {
     "name": "stdout",
     "output_type": "stream",
     "text": [
      "   gender_Female  gender_Male  contract_encoded  age  monthly_charges  tenure\n",
      "0            0.0          1.0               0.0   32             78.5       5\n",
      "1            1.0          0.0               1.0   45             92.3      12\n",
      "2            0.0          1.0               0.0   28             67.8       2\n",
      "3            1.0          0.0               2.0   52            112.1      30\n",
      "4            0.0          1.0               1.0   41             84.6       8\n"
     ]
    }
   ],
   "source": [
    "'''Q7.You are working on a project that involves predicting customer churn for a telecommunications company. You have a dataset with 5 features, including\n",
    "the customer's gender, age, contract type, monthly charges, and tenure. Which encoding technique(s) would you use to transform the categorical data into \n",
    "numerical data? Provide a step-by-step explanation of how you would implement the encoding.'''\n",
    "\n",
    "\n",
    "\n",
    "'''I will use One-hot-encoding to transform the 'gender' and 'contract type' feature into binary representation  and ordinal encoding to transform the \n",
    "'contract type' feature as it consist data such as \"month-to-month,\" \"one-year contract,\" and \"two-year contract consist order.'''\n",
    "\n",
    "\n",
    "'''\n",
    "steps: \n",
    "1.Identify the categorical features\n",
    "2.OneHotEncoding is applied to the dataset on the  'gender' and 'contract type' feature.\n",
    "3.OrdinalEncoding is applied to  dataset on the 'contract type' feature.\n",
    "4.Combine encoded features with numerical features\n",
    "\n",
    "'''\n",
    "import pandas as pd\n",
    "from sklearn.preprocessing import OneHotEncoder, OrdinalEncoder\n",
    "dataset = pd.DataFrame({\n",
    "    'gender': ['Male', 'Female', 'Male', 'Female', 'Male'],\n",
    "    'age': [32, 45, 28, 52, 41],\n",
    "    'contract_type': ['Month-to-month', 'One-year contract', 'Month-to-month', 'Two-year contract', 'One-year contract'],\n",
    "    'monthly_charges': [78.5, 92.3, 67.8, 112.1, 84.6],\n",
    "    'tenure': [5, 12, 2, 30, 8]\n",
    "})\n",
    "encoder = OneHotEncoder()\n",
    "encoded = encoder.fit_transform(dataset[['gender']])\n",
    "encoded_categorical = pd.DataFrame(encoded.toarray(),columns = encoder.get_feature_names_out())\n",
    "ordinal_encoder = OrdinalEncoder(categories=[['Month-to-month', 'One-year contract', 'Two-year contract']])\n",
    "encoded_ordinal = pd.DataFrame(ordinal_encoder.fit_transform(dataset[['contract_type']]), columns=['contract_encoded'])\n",
    "encoded_dataset = pd.concat([encoded_categorical, encoded_ordinal, dataset[['age', 'monthly_charges', 'tenure']]], axis=1)\n",
    "print(encoded_dataset)\n"
   ]
  },
  {
   "cell_type": "code",
   "execution_count": null,
   "id": "04cdbbb4-e729-4395-89a3-cf39982a637e",
   "metadata": {},
   "outputs": [],
   "source": []
  }
 ],
 "metadata": {
  "kernelspec": {
   "display_name": "Python 3 (ipykernel)",
   "language": "python",
   "name": "python3"
  },
  "language_info": {
   "codemirror_mode": {
    "name": "ipython",
    "version": 3
   },
   "file_extension": ".py",
   "mimetype": "text/x-python",
   "name": "python",
   "nbconvert_exporter": "python",
   "pygments_lexer": "ipython3",
   "version": "3.10.8"
  }
 },
 "nbformat": 4,
 "nbformat_minor": 5
}
